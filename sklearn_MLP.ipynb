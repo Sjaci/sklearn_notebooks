{
  "cells": [
    {
      "cell_type": "markdown",
      "id": "f75a7a48",
      "metadata": {
        "id": "f75a7a48"
      },
      "source": [
        "# Sklearn Multilayer Perceptron (MLP)\n",
        "\n",
        "Trying the MLP program mentioned in the \"Hands-on Machine Learning with Scikit-Learn, Keras & tensorflow\".\n"
      ]
    },
    {
      "cell_type": "markdown",
      "source": [
        "\n",
        "## Regression\n",
        "\n",
        "We will be using the diabetes dataset from the sklearn dataset library."
      ],
      "metadata": {
        "id": "kB9YHuqvsNkE"
      },
      "id": "kB9YHuqvsNkE"
    },
    {
      "cell_type": "code",
      "execution_count": null,
      "id": "767e3c58",
      "metadata": {
        "id": "767e3c58"
      },
      "outputs": [],
      "source": [
        "# importing necessary libraries\n",
        "import pandas as pd\n",
        "import numpy as np\n",
        "import matplotlib.pyplot as plt\n",
        "\n",
        "## dataset\n",
        "from sklearn.datasets import load_diabetes\n",
        "\n",
        "## To split into test and train dataset\n",
        "from sklearn.model_selection import train_test_split\n",
        "\n",
        "## To create the pipeline for data transformation\n",
        "from sklearn.pipeline import Pipeline\n",
        "from sklearn.compose import ColumnTransformer\n",
        "from sklearn.preprocessing import StandardScaler\n",
        "\n",
        "## For the MLP\n",
        "from sklearn.neural_network import MLPRegressor\n",
        "from sklearn.metrics import mean_squared_error"
      ]
    },
    {
      "cell_type": "code",
      "execution_count": null,
      "id": "7107357b",
      "metadata": {
        "id": "7107357b"
      },
      "outputs": [],
      "source": [
        "# Loading the dataset\n",
        "diabetes = load_diabetes()"
      ]
    },
    {
      "cell_type": "code",
      "execution_count": null,
      "id": "5baebb1a",
      "metadata": {
        "id": "5baebb1a",
        "outputId": "f419f94a-cb9e-4769-c22b-65f12671757c"
      },
      "outputs": [
        {
          "name": "stdout",
          "output_type": "stream",
          "text": [
            "Number of records: 442\n",
            "Number of target records: 442\n",
            "Number of features: 10\n",
            "The features are :\n",
            "['age', 'sex', 'bmi', 'bp', 's1', 's2', 's3', 's4', 's5', 's6']\n"
          ]
        }
      ],
      "source": [
        "# Some info\n",
        "print(f\"Number of records: {len(diabetes.data)}\")\n",
        "print(f\"Number of target records: {len(diabetes.target)}\")\n",
        "print(f\"Number of features: {len(diabetes.data[0])}\")\n",
        "print(\"The features are :\")\n",
        "print(diabetes.feature_names)"
      ]
    },
    {
      "cell_type": "markdown",
      "id": "5023a07e",
      "metadata": {
        "id": "5023a07e"
      },
      "source": [
        "Details from Sklearn:\n",
        "1. age age in years\n",
        "2. sex\n",
        "3. bmi body mass index\n",
        "4. bp average blood pressure\n",
        "5. s1 tc, total serum cholesterol\n",
        "6. s2 ldl, low-density lipoproteins\n",
        "7. s3 hdl, high-density lipoproteins\n",
        "8. s4 tch, total cholesterol / HDL\n",
        "9. s5 ltg, possibly log of serum triglycerides level\n",
        "10. s6 glu, blood sugar level"
      ]
    },
    {
      "cell_type": "markdown",
      "id": "a6225955",
      "metadata": {
        "id": "a6225955"
      },
      "source": [
        "### Splitting the data for train and test"
      ]
    },
    {
      "cell_type": "code",
      "execution_count": null,
      "id": "06fb5ae0",
      "metadata": {
        "id": "06fb5ae0",
        "outputId": "089a4b50-8775-4bbc-d09f-f0f230187e51"
      },
      "outputs": [
        {
          "name": "stdout",
          "output_type": "stream",
          "text": [
            "Number of training data: (331,331)\n",
            "Number of testing data: (111,111)\n"
          ]
        }
      ],
      "source": [
        "X_train, X_test, y_train, y_test = train_test_split(diabetes.data, diabetes.target, test_size = 0.25)\n",
        "\n",
        "print(f\"Number of training data: ({len(X_train)},{len(y_train)})\")\n",
        "print(f\"Number of testing data: ({len(X_test)},{len(y_test)})\")"
      ]
    },
    {
      "cell_type": "markdown",
      "id": "6177cf9e",
      "metadata": {
        "id": "6177cf9e"
      },
      "source": [
        "### Visualize the data"
      ]
    },
    {
      "cell_type": "code",
      "execution_count": null,
      "id": "944e0027",
      "metadata": {
        "id": "944e0027",
        "outputId": "265bd67b-130b-4aac-aaa6-dcd56bf2a2f8"
      },
      "outputs": [
        {
          "data": {
            "text/plain": [
              "(array([ 0.07076875, -0.04464164,  0.06924089,  0.0379505 ,  0.02182224,\n",
              "         0.00150446, -0.03603757,  0.039106  ,  0.0776366 ,  0.10661708]),\n",
              " 220.0)"
            ]
          },
          "execution_count": 5,
          "metadata": {},
          "output_type": "execute_result"
        }
      ],
      "source": [
        "# How does data look?\n",
        "X_train[0], y_train[0]"
      ]
    },
    {
      "cell_type": "code",
      "execution_count": null,
      "id": "36ec8e8c",
      "metadata": {
        "id": "36ec8e8c"
      },
      "outputs": [],
      "source": [
        "#create a data Frame\n",
        "temp_data = pd.DataFrame(X_train, columns = diabetes.feature_names)"
      ]
    },
    {
      "cell_type": "code",
      "execution_count": null,
      "id": "6bd9090f",
      "metadata": {
        "id": "6bd9090f",
        "outputId": "6781867e-c5cb-40a3-fae3-80521d8fe6a8"
      },
      "outputs": [
        {
          "data": {
            "text/html": [
              "<div>\n",
              "<style scoped>\n",
              "    .dataframe tbody tr th:only-of-type {\n",
              "        vertical-align: middle;\n",
              "    }\n",
              "\n",
              "    .dataframe tbody tr th {\n",
              "        vertical-align: top;\n",
              "    }\n",
              "\n",
              "    .dataframe thead th {\n",
              "        text-align: right;\n",
              "    }\n",
              "</style>\n",
              "<table border=\"1\" class=\"dataframe\">\n",
              "  <thead>\n",
              "    <tr style=\"text-align: right;\">\n",
              "      <th></th>\n",
              "      <th>age</th>\n",
              "      <th>sex</th>\n",
              "      <th>bmi</th>\n",
              "      <th>bp</th>\n",
              "      <th>s1</th>\n",
              "      <th>s2</th>\n",
              "      <th>s3</th>\n",
              "      <th>s4</th>\n",
              "      <th>s5</th>\n",
              "      <th>s6</th>\n",
              "    </tr>\n",
              "  </thead>\n",
              "  <tbody>\n",
              "    <tr>\n",
              "      <th>0</th>\n",
              "      <td>0.070769</td>\n",
              "      <td>-0.044642</td>\n",
              "      <td>0.069241</td>\n",
              "      <td>0.037950</td>\n",
              "      <td>0.021822</td>\n",
              "      <td>0.001504</td>\n",
              "      <td>-0.036038</td>\n",
              "      <td>0.039106</td>\n",
              "      <td>0.077637</td>\n",
              "      <td>0.106617</td>\n",
              "    </tr>\n",
              "    <tr>\n",
              "      <th>1</th>\n",
              "      <td>0.110727</td>\n",
              "      <td>0.050680</td>\n",
              "      <td>0.006728</td>\n",
              "      <td>0.028758</td>\n",
              "      <td>-0.027712</td>\n",
              "      <td>-0.007264</td>\n",
              "      <td>-0.047082</td>\n",
              "      <td>0.034309</td>\n",
              "      <td>0.002004</td>\n",
              "      <td>0.077622</td>\n",
              "    </tr>\n",
              "    <tr>\n",
              "      <th>2</th>\n",
              "      <td>0.041708</td>\n",
              "      <td>-0.044642</td>\n",
              "      <td>-0.032073</td>\n",
              "      <td>-0.061892</td>\n",
              "      <td>0.079612</td>\n",
              "      <td>0.050982</td>\n",
              "      <td>0.056003</td>\n",
              "      <td>-0.009972</td>\n",
              "      <td>0.045067</td>\n",
              "      <td>-0.059067</td>\n",
              "    </tr>\n",
              "    <tr>\n",
              "      <th>3</th>\n",
              "      <td>0.019913</td>\n",
              "      <td>-0.044642</td>\n",
              "      <td>-0.057941</td>\n",
              "      <td>-0.057313</td>\n",
              "      <td>-0.001569</td>\n",
              "      <td>-0.012587</td>\n",
              "      <td>0.074412</td>\n",
              "      <td>-0.039493</td>\n",
              "      <td>-0.061176</td>\n",
              "      <td>-0.075636</td>\n",
              "    </tr>\n",
              "    <tr>\n",
              "      <th>4</th>\n",
              "      <td>0.081666</td>\n",
              "      <td>0.050680</td>\n",
              "      <td>0.006728</td>\n",
              "      <td>-0.004534</td>\n",
              "      <td>0.109883</td>\n",
              "      <td>0.117056</td>\n",
              "      <td>-0.032356</td>\n",
              "      <td>0.091875</td>\n",
              "      <td>0.054720</td>\n",
              "      <td>0.007207</td>\n",
              "    </tr>\n",
              "    <tr>\n",
              "      <th>...</th>\n",
              "      <td>...</td>\n",
              "      <td>...</td>\n",
              "      <td>...</td>\n",
              "      <td>...</td>\n",
              "      <td>...</td>\n",
              "      <td>...</td>\n",
              "      <td>...</td>\n",
              "      <td>...</td>\n",
              "      <td>...</td>\n",
              "      <td>...</td>\n",
              "    </tr>\n",
              "    <tr>\n",
              "      <th>326</th>\n",
              "      <td>-0.023677</td>\n",
              "      <td>-0.044642</td>\n",
              "      <td>-0.069797</td>\n",
              "      <td>-0.064199</td>\n",
              "      <td>-0.059359</td>\n",
              "      <td>-0.050478</td>\n",
              "      <td>0.019187</td>\n",
              "      <td>-0.039493</td>\n",
              "      <td>-0.089133</td>\n",
              "      <td>-0.050783</td>\n",
              "    </tr>\n",
              "    <tr>\n",
              "      <th>327</th>\n",
              "      <td>-0.005515</td>\n",
              "      <td>0.050680</td>\n",
              "      <td>-0.041774</td>\n",
              "      <td>-0.043542</td>\n",
              "      <td>-0.079998</td>\n",
              "      <td>-0.076156</td>\n",
              "      <td>-0.032356</td>\n",
              "      <td>-0.039493</td>\n",
              "      <td>0.010227</td>\n",
              "      <td>-0.009362</td>\n",
              "    </tr>\n",
              "    <tr>\n",
              "      <th>328</th>\n",
              "      <td>-0.034575</td>\n",
              "      <td>0.050680</td>\n",
              "      <td>-0.000817</td>\n",
              "      <td>0.070072</td>\n",
              "      <td>0.039710</td>\n",
              "      <td>0.066952</td>\n",
              "      <td>-0.065491</td>\n",
              "      <td>0.108111</td>\n",
              "      <td>0.026717</td>\n",
              "      <td>0.073480</td>\n",
              "    </tr>\n",
              "    <tr>\n",
              "      <th>329</th>\n",
              "      <td>0.030811</td>\n",
              "      <td>-0.044642</td>\n",
              "      <td>0.005650</td>\n",
              "      <td>0.011544</td>\n",
              "      <td>0.078236</td>\n",
              "      <td>0.077913</td>\n",
              "      <td>-0.043401</td>\n",
              "      <td>0.108111</td>\n",
              "      <td>0.066051</td>\n",
              "      <td>0.019633</td>\n",
              "    </tr>\n",
              "    <tr>\n",
              "      <th>330</th>\n",
              "      <td>-0.056370</td>\n",
              "      <td>0.050680</td>\n",
              "      <td>-0.010517</td>\n",
              "      <td>0.025315</td>\n",
              "      <td>0.023198</td>\n",
              "      <td>0.040022</td>\n",
              "      <td>-0.039719</td>\n",
              "      <td>0.034309</td>\n",
              "      <td>0.020609</td>\n",
              "      <td>0.056912</td>\n",
              "    </tr>\n",
              "  </tbody>\n",
              "</table>\n",
              "<p>331 rows × 10 columns</p>\n",
              "</div>"
            ],
            "text/plain": [
              "          age       sex       bmi        bp        s1        s2        s3  \\\n",
              "0    0.070769 -0.044642  0.069241  0.037950  0.021822  0.001504 -0.036038   \n",
              "1    0.110727  0.050680  0.006728  0.028758 -0.027712 -0.007264 -0.047082   \n",
              "2    0.041708 -0.044642 -0.032073 -0.061892  0.079612  0.050982  0.056003   \n",
              "3    0.019913 -0.044642 -0.057941 -0.057313 -0.001569 -0.012587  0.074412   \n",
              "4    0.081666  0.050680  0.006728 -0.004534  0.109883  0.117056 -0.032356   \n",
              "..        ...       ...       ...       ...       ...       ...       ...   \n",
              "326 -0.023677 -0.044642 -0.069797 -0.064199 -0.059359 -0.050478  0.019187   \n",
              "327 -0.005515  0.050680 -0.041774 -0.043542 -0.079998 -0.076156 -0.032356   \n",
              "328 -0.034575  0.050680 -0.000817  0.070072  0.039710  0.066952 -0.065491   \n",
              "329  0.030811 -0.044642  0.005650  0.011544  0.078236  0.077913 -0.043401   \n",
              "330 -0.056370  0.050680 -0.010517  0.025315  0.023198  0.040022 -0.039719   \n",
              "\n",
              "           s4        s5        s6  \n",
              "0    0.039106  0.077637  0.106617  \n",
              "1    0.034309  0.002004  0.077622  \n",
              "2   -0.009972  0.045067 -0.059067  \n",
              "3   -0.039493 -0.061176 -0.075636  \n",
              "4    0.091875  0.054720  0.007207  \n",
              "..        ...       ...       ...  \n",
              "326 -0.039493 -0.089133 -0.050783  \n",
              "327 -0.039493  0.010227 -0.009362  \n",
              "328  0.108111  0.026717  0.073480  \n",
              "329  0.108111  0.066051  0.019633  \n",
              "330  0.034309  0.020609  0.056912  \n",
              "\n",
              "[331 rows x 10 columns]"
            ]
          },
          "execution_count": 7,
          "metadata": {},
          "output_type": "execute_result"
        }
      ],
      "source": [
        "temp_data"
      ]
    },
    {
      "cell_type": "code",
      "execution_count": null,
      "id": "339c9698",
      "metadata": {
        "id": "339c9698",
        "outputId": "18655146-13ab-4894-d14d-c9c17e024ee4"
      },
      "outputs": [
        {
          "name": "stdout",
          "output_type": "stream",
          "text": [
            "<class 'pandas.core.frame.DataFrame'>\n",
            "RangeIndex: 331 entries, 0 to 330\n",
            "Data columns (total 10 columns):\n",
            " #   Column  Non-Null Count  Dtype  \n",
            "---  ------  --------------  -----  \n",
            " 0   age     331 non-null    float64\n",
            " 1   sex     331 non-null    float64\n",
            " 2   bmi     331 non-null    float64\n",
            " 3   bp      331 non-null    float64\n",
            " 4   s1      331 non-null    float64\n",
            " 5   s2      331 non-null    float64\n",
            " 6   s3      331 non-null    float64\n",
            " 7   s4      331 non-null    float64\n",
            " 8   s5      331 non-null    float64\n",
            " 9   s6      331 non-null    float64\n",
            "dtypes: float64(10)\n",
            "memory usage: 26.0 KB\n"
          ]
        }
      ],
      "source": [
        "temp_data.info()"
      ]
    },
    {
      "cell_type": "code",
      "execution_count": null,
      "id": "d8da91a9",
      "metadata": {
        "id": "d8da91a9",
        "outputId": "953114d8-45e1-4932-a2bb-3e17d9d3c315"
      },
      "outputs": [
        {
          "data": {
            "text/html": [
              "<div>\n",
              "<style scoped>\n",
              "    .dataframe tbody tr th:only-of-type {\n",
              "        vertical-align: middle;\n",
              "    }\n",
              "\n",
              "    .dataframe tbody tr th {\n",
              "        vertical-align: top;\n",
              "    }\n",
              "\n",
              "    .dataframe thead th {\n",
              "        text-align: right;\n",
              "    }\n",
              "</style>\n",
              "<table border=\"1\" class=\"dataframe\">\n",
              "  <thead>\n",
              "    <tr style=\"text-align: right;\">\n",
              "      <th></th>\n",
              "      <th>age</th>\n",
              "      <th>sex</th>\n",
              "      <th>bmi</th>\n",
              "      <th>bp</th>\n",
              "      <th>s1</th>\n",
              "      <th>s2</th>\n",
              "      <th>s3</th>\n",
              "      <th>s4</th>\n",
              "      <th>s5</th>\n",
              "      <th>s6</th>\n",
              "    </tr>\n",
              "  </thead>\n",
              "  <tbody>\n",
              "    <tr>\n",
              "      <th>count</th>\n",
              "      <td>331.000000</td>\n",
              "      <td>331.000000</td>\n",
              "      <td>331.000000</td>\n",
              "      <td>331.000000</td>\n",
              "      <td>331.000000</td>\n",
              "      <td>331.000000</td>\n",
              "      <td>331.000000</td>\n",
              "      <td>331.000000</td>\n",
              "      <td>331.000000</td>\n",
              "      <td>331.000000</td>\n",
              "    </tr>\n",
              "    <tr>\n",
              "      <th>mean</th>\n",
              "      <td>-0.000335</td>\n",
              "      <td>0.000571</td>\n",
              "      <td>-0.000244</td>\n",
              "      <td>-0.000966</td>\n",
              "      <td>0.000144</td>\n",
              "      <td>0.001071</td>\n",
              "      <td>-0.000317</td>\n",
              "      <td>-0.000093</td>\n",
              "      <td>-0.001747</td>\n",
              "      <td>-0.001215</td>\n",
              "    </tr>\n",
              "    <tr>\n",
              "      <th>std</th>\n",
              "      <td>0.047342</td>\n",
              "      <td>0.047670</td>\n",
              "      <td>0.045995</td>\n",
              "      <td>0.047192</td>\n",
              "      <td>0.046121</td>\n",
              "      <td>0.045724</td>\n",
              "      <td>0.045718</td>\n",
              "      <td>0.046277</td>\n",
              "      <td>0.047421</td>\n",
              "      <td>0.046605</td>\n",
              "    </tr>\n",
              "    <tr>\n",
              "      <th>min</th>\n",
              "      <td>-0.107226</td>\n",
              "      <td>-0.044642</td>\n",
              "      <td>-0.090275</td>\n",
              "      <td>-0.112399</td>\n",
              "      <td>-0.103389</td>\n",
              "      <td>-0.112795</td>\n",
              "      <td>-0.102307</td>\n",
              "      <td>-0.076395</td>\n",
              "      <td>-0.126097</td>\n",
              "      <td>-0.129483</td>\n",
              "    </tr>\n",
              "    <tr>\n",
              "      <th>25%</th>\n",
              "      <td>-0.036391</td>\n",
              "      <td>-0.044642</td>\n",
              "      <td>-0.033151</td>\n",
              "      <td>-0.033213</td>\n",
              "      <td>-0.032528</td>\n",
              "      <td>-0.027618</td>\n",
              "      <td>-0.032356</td>\n",
              "      <td>-0.039493</td>\n",
              "      <td>-0.033246</td>\n",
              "      <td>-0.034215</td>\n",
              "    </tr>\n",
              "    <tr>\n",
              "      <th>50%</th>\n",
              "      <td>0.005383</td>\n",
              "      <td>-0.044642</td>\n",
              "      <td>-0.006206</td>\n",
              "      <td>-0.005670</td>\n",
              "      <td>-0.002945</td>\n",
              "      <td>-0.003819</td>\n",
              "      <td>-0.006584</td>\n",
              "      <td>-0.002592</td>\n",
              "      <td>-0.004222</td>\n",
              "      <td>-0.001078</td>\n",
              "    </tr>\n",
              "    <tr>\n",
              "      <th>75%</th>\n",
              "      <td>0.034443</td>\n",
              "      <td>0.050680</td>\n",
              "      <td>0.030440</td>\n",
              "      <td>0.033922</td>\n",
              "      <td>0.026638</td>\n",
              "      <td>0.029218</td>\n",
              "      <td>0.026550</td>\n",
              "      <td>0.034309</td>\n",
              "      <td>0.031193</td>\n",
              "      <td>0.027917</td>\n",
              "    </tr>\n",
              "    <tr>\n",
              "      <th>max</th>\n",
              "      <td>0.110727</td>\n",
              "      <td>0.050680</td>\n",
              "      <td>0.160855</td>\n",
              "      <td>0.132044</td>\n",
              "      <td>0.152538</td>\n",
              "      <td>0.198788</td>\n",
              "      <td>0.173816</td>\n",
              "      <td>0.185234</td>\n",
              "      <td>0.133597</td>\n",
              "      <td>0.135612</td>\n",
              "    </tr>\n",
              "  </tbody>\n",
              "</table>\n",
              "</div>"
            ],
            "text/plain": [
              "              age         sex         bmi          bp          s1          s2  \\\n",
              "count  331.000000  331.000000  331.000000  331.000000  331.000000  331.000000   \n",
              "mean    -0.000335    0.000571   -0.000244   -0.000966    0.000144    0.001071   \n",
              "std      0.047342    0.047670    0.045995    0.047192    0.046121    0.045724   \n",
              "min     -0.107226   -0.044642   -0.090275   -0.112399   -0.103389   -0.112795   \n",
              "25%     -0.036391   -0.044642   -0.033151   -0.033213   -0.032528   -0.027618   \n",
              "50%      0.005383   -0.044642   -0.006206   -0.005670   -0.002945   -0.003819   \n",
              "75%      0.034443    0.050680    0.030440    0.033922    0.026638    0.029218   \n",
              "max      0.110727    0.050680    0.160855    0.132044    0.152538    0.198788   \n",
              "\n",
              "               s3          s4          s5          s6  \n",
              "count  331.000000  331.000000  331.000000  331.000000  \n",
              "mean    -0.000317   -0.000093   -0.001747   -0.001215  \n",
              "std      0.045718    0.046277    0.047421    0.046605  \n",
              "min     -0.102307   -0.076395   -0.126097   -0.129483  \n",
              "25%     -0.032356   -0.039493   -0.033246   -0.034215  \n",
              "50%     -0.006584   -0.002592   -0.004222   -0.001078  \n",
              "75%      0.026550    0.034309    0.031193    0.027917  \n",
              "max      0.173816    0.185234    0.133597    0.135612  "
            ]
          },
          "execution_count": 9,
          "metadata": {},
          "output_type": "execute_result"
        }
      ],
      "source": [
        "temp_data.describe()"
      ]
    },
    {
      "cell_type": "markdown",
      "id": "d47cba27",
      "metadata": {
        "id": "d47cba27"
      },
      "source": [
        "There is no null values in the column."
      ]
    },
    {
      "cell_type": "code",
      "execution_count": null,
      "id": "aceb9541",
      "metadata": {
        "id": "aceb9541",
        "outputId": "67bd4b09-0559-43a7-8dc7-8c7606e20ce5"
      },
      "outputs": [
        {
          "data": {
            "image/png": "[encoded data removed]",
            "text/plain": [
              "<Figure size 1200x700 with 2 Axes>"
            ]
          },
          "metadata": {},
          "output_type": "display_data"
        },
        {
          "data": {
            "image/png": "[encoded data removed]",
            "text/plain": [
              "<Figure size 1200x700 with 2 Axes>"
            ]
          },
          "metadata": {},
          "output_type": "display_data"
        },
        {
          "data": {
            "image/png": "[encoded data removed]",
            "text/plain": [
              "<Figure size 1200x700 with 2 Axes>"
            ]
          },
          "metadata": {},
          "output_type": "display_data"
        },
        {
          "data": {
            "image/png": "[encoded data removed]",
            "text/plain": [
              "<Figure size 1200x700 with 2 Axes>"
            ]
          },
          "metadata": {},
          "output_type": "display_data"
        },
        {
          "data": {
            "image/png": "[encoded data removed]",
            "text/plain": [
              "<Figure size 1200x700 with 2 Axes>"
            ]
          },
          "metadata": {},
          "output_type": "display_data"
        },
        {
          "data": {
            "image/png": "[encoded data removed]",
            "text/plain": [
              "<Figure size 1200x700 with 2 Axes>"
            ]
          },
          "metadata": {},
          "output_type": "display_data"
        },
        {
          "data": {
            "image/png": "[encoded data removed]",
            "text/plain": [
              "<Figure size 1200x700 with 2 Axes>"
            ]
          },
          "metadata": {},
          "output_type": "display_data"
        },
        {
          "data": {
            "image/png": "[encoded data removed]",
            "text/plain": [
              "<Figure size 1200x700 with 2 Axes>"
            ]
          },
          "metadata": {},
          "output_type": "display_data"
        },
        {
          "data": {
            "image/png": "[encoded data removed]",
            "text/plain": [
              "<Figure size 1200x700 with 2 Axes>"
            ]
          },
          "metadata": {},
          "output_type": "display_data"
        },
        {
          "data": {
            "image/png": "[encoded data removed]",
            "text/plain": [
              "<Figure size 1200x700 with 2 Axes>"
            ]
          },
          "metadata": {},
          "output_type": "display_data"
        }
      ],
      "source": [
        "for col in diabetes.feature_names:\n",
        "    plt.figure(figsize = (12,7))\n",
        "    plt.subplot(1,2,1)\n",
        "    plt.hist(temp_data[col])\n",
        "    plt.title(\"Distribution of \"+col)\n",
        "    plt.subplot(1,2,2)\n",
        "    plt.boxplot(temp_data[col])\n",
        "    plt.title(\"Box plot for \"+ col)"
      ]
    },
    {
      "cell_type": "markdown",
      "id": "52e6243e",
      "metadata": {
        "id": "52e6243e"
      },
      "source": [
        "All the columns are scaled, but the distribution is not uniform. For now proceeding without any data transformation."
      ]
    },
    {
      "cell_type": "markdown",
      "id": "c0c87efe",
      "metadata": {
        "id": "c0c87efe"
      },
      "source": [
        "### Training using MLP Regressor\n",
        "\n",
        "About MLPRegressor:\n",
        "\n",
        "class sklearn.neural_network.MLPRegressor(hidden_layer_sizes=(100,), activation='relu', *, solver='adam', alpha=0.0001, batch_size='auto', learning_rate='constant', learning_rate_init=0.001, power_t=0.5, max_iter=200, shuffle=True, random_state=None, tol=0.0001, verbose=False, warm_start=False, momentum=0.9, nesterovs_momentum=True, early_stopping=False, validation_fraction=0.1, beta_1=0.9, beta_2=0.999, epsilon=1e-08, n_iter_no_change=10, max_fun=15000)"
      ]
    },
    {
      "cell_type": "code",
      "execution_count": null,
      "id": "7e54b117",
      "metadata": {
        "id": "7e54b117"
      },
      "outputs": [],
      "source": [
        "model_1 = MLPRegressor(hidden_layer_sizes = [50,50],\n",
        "                       activation = 'relu',\n",
        "                       solver = 'adam',\n",
        "                       learning_rate_init = 0.001,\n",
        "                       verbose = True,\n",
        "                       validation_fraction = 0.1,\n",
        "                       random_state = 42 )"
      ]
    },
    {
      "cell_type": "code",
      "execution_count": null,
      "id": "b613e490",
      "metadata": {
        "id": "b613e490",
        "outputId": "04432226-6979-46bd-e240-f58f7dc80572"
      },
      "outputs": [
        {
          "name": "stdout",
          "output_type": "stream",
          "text": [
            "Iteration 1, loss = 14104.36839917\n",
            "Iteration 2, loss = 14093.12041241\n",
            "Iteration 3, loss = 14081.96587657\n",
            "Iteration 4, loss = 14071.13693135\n",
            "Iteration 5, loss = 14060.01435666\n",
            "Iteration 6, loss = 14048.80722769\n",
            "Iteration 7, loss = 14037.75927742\n",
            "Iteration 8, loss = 14026.41533091\n",
            "Iteration 9, loss = 14014.87239685\n",
            "Iteration 10, loss = 14003.12049862\n",
            "Iteration 11, loss = 13991.15827458\n",
            "Iteration 12, loss = 13979.14540053\n",
            "Iteration 13, loss = 13967.07075947\n",
            "Iteration 14, loss = 13954.57657069\n",
            "Iteration 15, loss = 13941.91859203\n",
            "Iteration 16, loss = 13929.49961433\n",
            "Iteration 17, loss = 13916.59173668\n",
            "Iteration 18, loss = 13904.02972546\n",
            "Iteration 19, loss = 13890.91122224\n",
            "Iteration 20, loss = 13877.36743237\n",
            "Iteration 21, loss = 13863.78367532\n",
            "Iteration 22, loss = 13849.45123678\n",
            "Iteration 23, loss = 13835.03274509\n",
            "Iteration 24, loss = 13819.50690580\n",
            "Iteration 25, loss = 13803.90409488\n",
            "Iteration 26, loss = 13787.33589634\n",
            "Iteration 27, loss = 13770.09463237\n",
            "Iteration 28, loss = 13752.55121393\n",
            "Iteration 29, loss = 13733.74839047\n",
            "Iteration 30, loss = 13714.47686461\n",
            "Iteration 31, loss = 13694.56769381\n",
            "Iteration 32, loss = 13673.46558959\n",
            "Iteration 33, loss = 13651.80834281\n",
            "Iteration 34, loss = 13629.61245567\n",
            "Iteration 35, loss = 13605.89197298\n",
            "Iteration 36, loss = 13581.70816614\n",
            "Iteration 37, loss = 13556.26855245\n",
            "Iteration 38, loss = 13530.23558670\n",
            "Iteration 39, loss = 13503.09250119\n",
            "Iteration 40, loss = 13474.72379456\n",
            "Iteration 41, loss = 13445.60049384\n",
            "Iteration 42, loss = 13415.13431264\n",
            "Iteration 43, loss = 13383.83086963\n",
            "Iteration 44, loss = 13351.62984008\n",
            "Iteration 45, loss = 13317.96224690\n",
            "Iteration 46, loss = 13282.25171756\n",
            "Iteration 47, loss = 13245.77102880\n",
            "Iteration 48, loss = 13209.03899554\n",
            "Iteration 49, loss = 13170.35348767\n",
            "Iteration 50, loss = 13130.51057398\n",
            "Iteration 51, loss = 13088.66850789\n",
            "Iteration 52, loss = 13046.21323311\n",
            "Iteration 53, loss = 13002.27208934\n",
            "Iteration 54, loss = 12956.55470580\n",
            "Iteration 55, loss = 12908.88969326\n",
            "Iteration 56, loss = 12861.32511720\n",
            "Iteration 57, loss = 12810.75302454\n",
            "Iteration 58, loss = 12758.93237534\n",
            "Iteration 59, loss = 12705.42534896\n",
            "Iteration 60, loss = 12649.66703811\n",
            "Iteration 61, loss = 12592.72406183\n",
            "Iteration 62, loss = 12535.19369432\n",
            "Iteration 63, loss = 12473.34285314\n",
            "Iteration 64, loss = 12411.36639593\n",
            "Iteration 65, loss = 12347.20052880\n",
            "Iteration 66, loss = 12281.06553845\n",
            "Iteration 67, loss = 12213.61400613\n",
            "Iteration 68, loss = 12144.49881517\n",
            "Iteration 69, loss = 12073.23008294\n",
            "Iteration 70, loss = 12000.64854546\n",
            "Iteration 71, loss = 11925.20941751\n",
            "Iteration 72, loss = 11849.48987462\n",
            "Iteration 73, loss = 11769.88246008\n",
            "Iteration 74, loss = 11689.51478469\n",
            "Iteration 75, loss = 11608.38489989\n",
            "Iteration 76, loss = 11523.66358939\n",
            "Iteration 77, loss = 11437.65459388\n",
            "Iteration 78, loss = 11351.50122818\n",
            "Iteration 79, loss = 11261.17742055\n",
            "Iteration 80, loss = 11170.50692334\n",
            "Iteration 81, loss = 11079.44649197\n",
            "Iteration 82, loss = 10982.50719990\n",
            "Iteration 83, loss = 10887.80381257\n",
            "Iteration 84, loss = 10790.03470556\n",
            "Iteration 85, loss = 10690.38738295\n",
            "Iteration 86, loss = 10589.73316569\n",
            "Iteration 87, loss = 10485.12707662\n",
            "Iteration 88, loss = 10381.73176550\n",
            "Iteration 89, loss = 10274.31810493\n",
            "Iteration 90, loss = 10167.93744698\n",
            "Iteration 91, loss = 10059.28982611\n",
            "Iteration 92, loss = 9948.44042741\n",
            "Iteration 93, loss = 9834.40568235\n",
            "Iteration 94, loss = 9719.93566672\n",
            "Iteration 95, loss = 9604.71611368\n",
            "Iteration 96, loss = 9486.52136590\n",
            "Iteration 97, loss = 9372.32988925\n",
            "Iteration 98, loss = 9250.64814711\n",
            "Iteration 99, loss = 9128.57673719\n",
            "Iteration 100, loss = 9007.12234789\n",
            "Iteration 101, loss = 8883.87561881\n",
            "Iteration 102, loss = 8760.28712757\n",
            "Iteration 103, loss = 8634.87537592\n",
            "Iteration 104, loss = 8510.98149393\n",
            "Iteration 105, loss = 8380.55304526\n",
            "Iteration 106, loss = 8254.96165509\n",
            "Iteration 107, loss = 8128.14880468\n",
            "Iteration 108, loss = 7998.25919223\n",
            "Iteration 109, loss = 7866.63304173\n",
            "Iteration 110, loss = 7739.65114235\n",
            "Iteration 111, loss = 7608.14204392\n",
            "Iteration 112, loss = 7477.70131011\n",
            "Iteration 113, loss = 7347.88278417\n",
            "Iteration 114, loss = 7216.55794509\n",
            "Iteration 115, loss = 7085.38613040\n",
            "Iteration 116, loss = 6953.82913624\n",
            "Iteration 117, loss = 6826.40625611\n",
            "Iteration 118, loss = 6693.83060049\n",
            "Iteration 119, loss = 6566.39237715\n",
            "Iteration 120, loss = 6437.60147023\n",
            "Iteration 121, loss = 6309.24046293\n",
            "Iteration 122, loss = 6178.24002935\n",
            "Iteration 123, loss = 6051.94680490\n",
            "Iteration 124, loss = 5927.38082027\n",
            "Iteration 125, loss = 5801.53221149\n",
            "Iteration 126, loss = 5681.42594220\n",
            "Iteration 127, loss = 5553.87198658\n",
            "Iteration 128, loss = 5435.25364213\n",
            "Iteration 129, loss = 5315.18095091\n",
            "Iteration 130, loss = 5197.40231360\n",
            "Iteration 131, loss = 5082.38244290\n",
            "Iteration 132, loss = 4964.18784803\n",
            "Iteration 133, loss = 4849.99542623\n",
            "Iteration 134, loss = 4739.54118632\n",
            "Iteration 135, loss = 4627.58286023\n",
            "Iteration 136, loss = 4520.84349876\n",
            "Iteration 137, loss = 4416.84555677\n",
            "Iteration 138, loss = 4310.15462257\n",
            "Iteration 139, loss = 4209.25014641\n",
            "Iteration 140, loss = 4106.21422624\n",
            "Iteration 141, loss = 4008.40657108\n",
            "Iteration 142, loss = 3916.02169435\n",
            "Iteration 143, loss = 3822.59459868\n",
            "Iteration 144, loss = 3730.94412660\n",
            "Iteration 145, loss = 3642.94561444\n",
            "Iteration 146, loss = 3556.63904872\n",
            "Iteration 147, loss = 3475.06384248\n",
            "Iteration 148, loss = 3390.40801212\n",
            "Iteration 149, loss = 3313.94795806\n",
            "Iteration 150, loss = 3239.11187069\n",
            "Iteration 151, loss = 3168.23561158\n",
            "Iteration 152, loss = 3095.70652608\n",
            "Iteration 153, loss = 3030.12827504\n",
            "Iteration 154, loss = 2961.57516937\n",
            "Iteration 155, loss = 2900.32812375\n",
            "Iteration 156, loss = 2842.93519480\n",
            "Iteration 157, loss = 2786.09712295\n",
            "Iteration 158, loss = 2732.33567282\n",
            "Iteration 159, loss = 2680.45534953\n",
            "Iteration 160, loss = 2631.59423274\n",
            "Iteration 161, loss = 2585.41039533\n",
            "Iteration 162, loss = 2540.90855818\n",
            "Iteration 163, loss = 2502.21365233\n",
            "Iteration 164, loss = 2461.83365892\n",
            "Iteration 165, loss = 2425.71951077\n",
            "Iteration 166, loss = 2392.23159661\n",
            "Iteration 167, loss = 2359.36996851\n",
            "Iteration 168, loss = 2331.06223326\n",
            "Iteration 169, loss = 2301.81883536\n",
            "Iteration 170, loss = 2276.97076512\n",
            "Iteration 171, loss = 2250.51891401\n",
            "Iteration 172, loss = 2229.22178272\n",
            "Iteration 173, loss = 2207.09900994\n",
            "Iteration 174, loss = 2187.59131953\n",
            "Iteration 175, loss = 2171.59079091\n",
            "Iteration 176, loss = 2151.96570169\n",
            "Iteration 177, loss = 2139.27263242\n",
            "Iteration 178, loss = 2125.78443202\n",
            "Iteration 179, loss = 2110.37321125\n",
            "Iteration 180, loss = 2098.76770094\n",
            "Iteration 181, loss = 2086.60114589\n",
            "Iteration 182, loss = 2077.22456669\n",
            "Iteration 183, loss = 2067.49820665\n",
            "Iteration 184, loss = 2058.34570898\n",
            "Iteration 185, loss = 2050.75892652\n",
            "Iteration 186, loss = 2041.29098727\n",
            "Iteration 187, loss = 2036.05558805\n",
            "Iteration 188, loss = 2029.03608998\n",
            "Iteration 189, loss = 2022.23737936\n",
            "Iteration 190, loss = 2015.75465640\n",
            "Iteration 191, loss = 2011.57869857\n",
            "Iteration 192, loss = 2005.81837496\n",
            "Iteration 193, loss = 2000.90550680\n",
            "Iteration 194, loss = 1997.09015809\n",
            "Iteration 195, loss = 1991.85379545\n",
            "Iteration 196, loss = 1988.06269633\n",
            "Iteration 197, loss = 1983.95949748\n",
            "Iteration 198, loss = 1980.33826218\n",
            "Iteration 199, loss = 1976.84674779\n",
            "Iteration 200, loss = 1973.12509053\n"
          ]
        },
        {
          "name": "stderr",
          "output_type": "stream",
          "text": [
            "/Users/jacindhas/anaconda3/lib/python3.10/site-packages/sklearn/neural_network/_multilayer_perceptron.py:684: ConvergenceWarning: Stochastic Optimizer: Maximum iterations (200) reached and the optimization hasn't converged yet.\n",
            "  warnings.warn(\n"
          ]
        },
        {
          "data": {
            "text/html": [
              "<style>#sk-container-id-1 {color: black;background-color: white;}#sk-container-id-1 pre{padding: 0;}#sk-container-id-1 div.sk-toggleable {background-color: white;}#sk-container-id-1 label.sk-toggleable__label {cursor: pointer;display: block;width: 100%;margin-bottom: 0;padding: 0.3em;box-sizing: border-box;text-align: center;}#sk-container-id-1 label.sk-toggleable__label-arrow:before {content: \"▸\";float: left;margin-right: 0.25em;color: #696969;}#sk-container-id-1 label.sk-toggleable__label-arrow:hover:before {color: black;}#sk-container-id-1 div.sk-estimator:hover label.sk-toggleable__label-arrow:before {color: black;}#sk-container-id-1 div.sk-toggleable__content {max-height: 0;max-width: 0;overflow: hidden;text-align: left;background-color: #f0f8ff;}#sk-container-id-1 div.sk-toggleable__content pre {margin: 0.2em;color: black;border-radius: 0.25em;background-color: #f0f8ff;}#sk-container-id-1 input.sk-toggleable__control:checked~div.sk-toggleable__content {max-height: 200px;max-width: 100%;overflow: auto;}#sk-container-id-1 input.sk-toggleable__control:checked~label.sk-toggleable__label-arrow:before {content: \"▾\";}#sk-container-id-1 div.sk-estimator input.sk-toggleable__control:checked~label.sk-toggleable__label {background-color: #d4ebff;}#sk-container-id-1 div.sk-label input.sk-toggleable__control:checked~label.sk-toggleable__label {background-color: #d4ebff;}#sk-container-id-1 input.sk-hidden--visually {border: 0;clip: rect(1px 1px 1px 1px);clip: rect(1px, 1px, 1px, 1px);height: 1px;margin: -1px;overflow: hidden;padding: 0;position: absolute;width: 1px;}#sk-container-id-1 div.sk-estimator {font-family: monospace;background-color: #f0f8ff;border: 1px dotted black;border-radius: 0.25em;box-sizing: border-box;margin-bottom: 0.5em;}#sk-container-id-1 div.sk-estimator:hover {background-color: #d4ebff;}#sk-container-id-1 div.sk-parallel-item::after {content: \"\";width: 100%;border-bottom: 1px solid gray;flex-grow: 1;}#sk-container-id-1 div.sk-label:hover label.sk-toggleable__label {background-color: #d4ebff;}#sk-container-id-1 div.sk-serial::before {content: \"\";position: absolute;border-left: 1px solid gray;box-sizing: border-box;top: 0;bottom: 0;left: 50%;z-index: 0;}#sk-container-id-1 div.sk-serial {display: flex;flex-direction: column;align-items: center;background-color: white;padding-right: 0.2em;padding-left: 0.2em;position: relative;}#sk-container-id-1 div.sk-item {position: relative;z-index: 1;}#sk-container-id-1 div.sk-parallel {display: flex;align-items: stretch;justify-content: center;background-color: white;position: relative;}#sk-container-id-1 div.sk-item::before, #sk-container-id-1 div.sk-parallel-item::before {content: \"\";position: absolute;border-left: 1px solid gray;box-sizing: border-box;top: 0;bottom: 0;left: 50%;z-index: -1;}#sk-container-id-1 div.sk-parallel-item {display: flex;flex-direction: column;z-index: 1;position: relative;background-color: white;}#sk-container-id-1 div.sk-parallel-item:first-child::after {align-self: flex-end;width: 50%;}#sk-container-id-1 div.sk-parallel-item:last-child::after {align-self: flex-start;width: 50%;}#sk-container-id-1 div.sk-parallel-item:only-child::after {width: 0;}#sk-container-id-1 div.sk-dashed-wrapped {border: 1px dashed gray;margin: 0 0.4em 0.5em 0.4em;box-sizing: border-box;padding-bottom: 0.4em;background-color: white;}#sk-container-id-1 div.sk-label label {font-family: monospace;font-weight: bold;display: inline-block;line-height: 1.2em;}#sk-container-id-1 div.sk-label-container {text-align: center;}#sk-container-id-1 div.sk-container {/* jupyter's `normalize.less` sets `[hidden] { display: none; }` but bootstrap.min.css set `[hidden] { display: none !important; }` so we also need the `!important` here to be able to override the default hidden behavior on the sphinx rendered scikit-learn.org. See: https://github.com/scikit-learn/scikit-learn/issues/21755 */display: inline-block !important;position: relative;}#sk-container-id-1 div.sk-text-repr-fallback {display: none;}</style><div id=\"sk-container-id-1\" class=\"sk-top-container\"><div class=\"sk-text-repr-fallback\"><pre>MLPRegressor(hidden_layer_sizes=[50, 50], random_state=42, verbose=True)</pre><b>In a Jupyter environment, please rerun this cell to show the HTML representation or trust the notebook. <br />On GitHub, the HTML representation is unable to render, please try loading this page with nbviewer.org.</b></div><div class=\"sk-container\" hidden><div class=\"sk-item\"><div class=\"sk-estimator sk-toggleable\"><input class=\"sk-toggleable__control sk-hidden--visually\" id=\"sk-estimator-id-1\" type=\"checkbox\" checked><label for=\"sk-estimator-id-1\" class=\"sk-toggleable__label sk-toggleable__label-arrow\">MLPRegressor</label><div class=\"sk-toggleable__content\"><pre>MLPRegressor(hidden_layer_sizes=[50, 50], random_state=42, verbose=True)</pre></div></div></div></div></div>"
            ],
            "text/plain": [
              "MLPRegressor(hidden_layer_sizes=[50, 50], random_state=42, verbose=True)"
            ]
          },
          "execution_count": 13,
          "metadata": {},
          "output_type": "execute_result"
        }
      ],
      "source": [
        "model_1.fit(X_train, y_train)"
      ]
    },
    {
      "cell_type": "code",
      "execution_count": null,
      "id": "b87e7ebf",
      "metadata": {
        "id": "b87e7ebf",
        "outputId": "b55f0213-2fb4-4efa-b590-b370d5fe5c74"
      },
      "outputs": [
        {
          "name": "stdout",
          "output_type": "stream",
          "text": [
            "Mean Squared error for Model 1: 61.71608299496176\n"
          ]
        }
      ],
      "source": [
        "y_pred_1 = model_1.predict(X_test)\n",
        "rmse_1 = mean_squared_error(y_test, y_pred_1, squared=False)\n",
        "print(f\"Mean Squared error for Model 1: {rmse_1}\")"
      ]
    },
    {
      "cell_type": "markdown",
      "id": "d5438737",
      "metadata": {
        "id": "d5438737"
      },
      "source": [
        "Let's increase the number of layers to 3..."
      ]
    },
    {
      "cell_type": "code",
      "execution_count": null,
      "id": "db894cdb",
      "metadata": {
        "id": "db894cdb",
        "outputId": "c8b8cdc0-1b2c-4405-abf6-28c830e2b42f"
      },
      "outputs": [
        {
          "name": "stderr",
          "output_type": "stream",
          "text": [
            "/Users/jacindhas/anaconda3/lib/python3.10/site-packages/sklearn/neural_network/_multilayer_perceptron.py:684: ConvergenceWarning: Stochastic Optimizer: Maximum iterations (200) reached and the optimization hasn't converged yet.\n",
            "  warnings.warn(\n"
          ]
        },
        {
          "data": {
            "text/html": [
              "<style>#sk-container-id-2 {color: black;background-color: white;}#sk-container-id-2 pre{padding: 0;}#sk-container-id-2 div.sk-toggleable {background-color: white;}#sk-container-id-2 label.sk-toggleable__label {cursor: pointer;display: block;width: 100%;margin-bottom: 0;padding: 0.3em;box-sizing: border-box;text-align: center;}#sk-container-id-2 label.sk-toggleable__label-arrow:before {content: \"▸\";float: left;margin-right: 0.25em;color: #696969;}#sk-container-id-2 label.sk-toggleable__label-arrow:hover:before {color: black;}#sk-container-id-2 div.sk-estimator:hover label.sk-toggleable__label-arrow:before {color: black;}#sk-container-id-2 div.sk-toggleable__content {max-height: 0;max-width: 0;overflow: hidden;text-align: left;background-color: #f0f8ff;}#sk-container-id-2 div.sk-toggleable__content pre {margin: 0.2em;color: black;border-radius: 0.25em;background-color: #f0f8ff;}#sk-container-id-2 input.sk-toggleable__control:checked~div.sk-toggleable__content {max-height: 200px;max-width: 100%;overflow: auto;}#sk-container-id-2 input.sk-toggleable__control:checked~label.sk-toggleable__label-arrow:before {content: \"▾\";}#sk-container-id-2 div.sk-estimator input.sk-toggleable__control:checked~label.sk-toggleable__label {background-color: #d4ebff;}#sk-container-id-2 div.sk-label input.sk-toggleable__control:checked~label.sk-toggleable__label {background-color: #d4ebff;}#sk-container-id-2 input.sk-hidden--visually {border: 0;clip: rect(1px 1px 1px 1px);clip: rect(1px, 1px, 1px, 1px);height: 1px;margin: -1px;overflow: hidden;padding: 0;position: absolute;width: 1px;}#sk-container-id-2 div.sk-estimator {font-family: monospace;background-color: #f0f8ff;border: 1px dotted black;border-radius: 0.25em;box-sizing: border-box;margin-bottom: 0.5em;}#sk-container-id-2 div.sk-estimator:hover {background-color: #d4ebff;}#sk-container-id-2 div.sk-parallel-item::after {content: \"\";width: 100%;border-bottom: 1px solid gray;flex-grow: 1;}#sk-container-id-2 div.sk-label:hover label.sk-toggleable__label {background-color: #d4ebff;}#sk-container-id-2 div.sk-serial::before {content: \"\";position: absolute;border-left: 1px solid gray;box-sizing: border-box;top: 0;bottom: 0;left: 50%;z-index: 0;}#sk-container-id-2 div.sk-serial {display: flex;flex-direction: column;align-items: center;background-color: white;padding-right: 0.2em;padding-left: 0.2em;position: relative;}#sk-container-id-2 div.sk-item {position: relative;z-index: 1;}#sk-container-id-2 div.sk-parallel {display: flex;align-items: stretch;justify-content: center;background-color: white;position: relative;}#sk-container-id-2 div.sk-item::before, #sk-container-id-2 div.sk-parallel-item::before {content: \"\";position: absolute;border-left: 1px solid gray;box-sizing: border-box;top: 0;bottom: 0;left: 50%;z-index: -1;}#sk-container-id-2 div.sk-parallel-item {display: flex;flex-direction: column;z-index: 1;position: relative;background-color: white;}#sk-container-id-2 div.sk-parallel-item:first-child::after {align-self: flex-end;width: 50%;}#sk-container-id-2 div.sk-parallel-item:last-child::after {align-self: flex-start;width: 50%;}#sk-container-id-2 div.sk-parallel-item:only-child::after {width: 0;}#sk-container-id-2 div.sk-dashed-wrapped {border: 1px dashed gray;margin: 0 0.4em 0.5em 0.4em;box-sizing: border-box;padding-bottom: 0.4em;background-color: white;}#sk-container-id-2 div.sk-label label {font-family: monospace;font-weight: bold;display: inline-block;line-height: 1.2em;}#sk-container-id-2 div.sk-label-container {text-align: center;}#sk-container-id-2 div.sk-container {/* jupyter's `normalize.less` sets `[hidden] { display: none; }` but bootstrap.min.css set `[hidden] { display: none !important; }` so we also need the `!important` here to be able to override the default hidden behavior on the sphinx rendered scikit-learn.org. See: https://github.com/scikit-learn/scikit-learn/issues/21755 */display: inline-block !important;position: relative;}#sk-container-id-2 div.sk-text-repr-fallback {display: none;}</style><div id=\"sk-container-id-2\" class=\"sk-top-container\"><div class=\"sk-text-repr-fallback\"><pre>MLPRegressor(hidden_layer_sizes=[50, 50, 50], random_state=42)</pre><b>In a Jupyter environment, please rerun this cell to show the HTML representation or trust the notebook. <br />On GitHub, the HTML representation is unable to render, please try loading this page with nbviewer.org.</b></div><div class=\"sk-container\" hidden><div class=\"sk-item\"><div class=\"sk-estimator sk-toggleable\"><input class=\"sk-toggleable__control sk-hidden--visually\" id=\"sk-estimator-id-2\" type=\"checkbox\" checked><label for=\"sk-estimator-id-2\" class=\"sk-toggleable__label sk-toggleable__label-arrow\">MLPRegressor</label><div class=\"sk-toggleable__content\"><pre>MLPRegressor(hidden_layer_sizes=[50, 50, 50], random_state=42)</pre></div></div></div></div></div>"
            ],
            "text/plain": [
              "MLPRegressor(hidden_layer_sizes=[50, 50, 50], random_state=42)"
            ]
          },
          "execution_count": 19,
          "metadata": {},
          "output_type": "execute_result"
        }
      ],
      "source": [
        "model_2 = MLPRegressor(hidden_layer_sizes=[50,50,50],\n",
        "                        random_state = 42,\n",
        "                       activation = 'relu',\n",
        "                       solver = 'adam',\n",
        "                       learning_rate_init = 0.001,\n",
        "                       validation_fraction = 0.1)\n",
        "\n",
        "model_2.fit(X_train, y_train)"
      ]
    },
    {
      "cell_type": "code",
      "execution_count": null,
      "id": "4e9db1d5",
      "metadata": {
        "id": "4e9db1d5",
        "outputId": "f2059211-ca6f-4f23-844f-a0c9fcabd963"
      },
      "outputs": [
        {
          "name": "stdout",
          "output_type": "stream",
          "text": [
            "Mean Squared error for Model 2: 56.65271622660375\n"
          ]
        }
      ],
      "source": [
        "y_pred_2 = model_2.predict(X_test)\n",
        "rmse_2 = mean_squared_error(y_test, y_pred_2, squared = False)\n",
        "print(f\"Mean Squared error for Model 2: {rmse_2}\")"
      ]
    },
    {
      "cell_type": "markdown",
      "id": "553dcbe2",
      "metadata": {
        "id": "553dcbe2"
      },
      "source": [
        "It got reduces a little bit, changing the learning rate to 0.01 and increasing the neurons at 100 for all the layers."
      ]
    },
    {
      "cell_type": "code",
      "execution_count": null,
      "id": "eeabf538",
      "metadata": {
        "id": "eeabf538",
        "outputId": "d1d9dd1c-d0e2-4a11-b8bb-046290b10bc5"
      },
      "outputs": [
        {
          "name": "stdout",
          "output_type": "stream",
          "text": [
            "Iteration 1, loss = 13986.56989034\n",
            "Iteration 2, loss = 12635.51475600\n",
            "Iteration 3, loss = 9392.06111779\n",
            "Iteration 4, loss = 4712.88121579\n",
            "Iteration 5, loss = 3259.67800788\n",
            "Iteration 6, loss = 4931.47239588\n",
            "Iteration 7, loss = 2753.30249685\n",
            "Iteration 8, loss = 2446.33788100\n",
            "Iteration 9, loss = 3070.31609922\n",
            "Iteration 10, loss = 3107.50623257\n",
            "Iteration 11, loss = 2505.59969573\n",
            "Iteration 12, loss = 1927.79247455\n",
            "Iteration 13, loss = 2113.35622143\n",
            "Iteration 14, loss = 2299.16421477\n",
            "Iteration 15, loss = 1956.03734061\n",
            "Iteration 16, loss = 1740.42440290\n",
            "Iteration 17, loss = 1839.05935082\n",
            "Iteration 18, loss = 1854.84626238\n",
            "Iteration 19, loss = 1709.54916793\n",
            "Iteration 20, loss = 1620.64401676\n",
            "Iteration 21, loss = 1686.53773486\n",
            "Iteration 22, loss = 1629.69554014\n",
            "Iteration 23, loss = 1544.19027567\n",
            "Iteration 24, loss = 1563.53327641\n",
            "Iteration 25, loss = 1588.35552299\n",
            "Iteration 26, loss = 1541.97135087\n",
            "Iteration 27, loss = 1508.02694315\n",
            "Iteration 28, loss = 1534.37333349\n",
            "Iteration 29, loss = 1544.35084724\n",
            "Iteration 30, loss = 1504.52307625\n",
            "Iteration 31, loss = 1515.70035623\n",
            "Iteration 32, loss = 1526.64104876\n",
            "Iteration 33, loss = 1510.10174420\n",
            "Iteration 34, loss = 1485.93127297\n",
            "Iteration 35, loss = 1497.74092956\n",
            "Iteration 36, loss = 1496.07328523\n",
            "Iteration 37, loss = 1479.75947395\n",
            "Iteration 38, loss = 1486.67615039\n",
            "Iteration 39, loss = 1489.83959571\n",
            "Iteration 40, loss = 1479.82907114\n",
            "Iteration 41, loss = 1473.96591370\n",
            "Iteration 42, loss = 1479.36382722\n",
            "Iteration 43, loss = 1477.47911400\n",
            "Iteration 44, loss = 1467.16265513\n",
            "Iteration 45, loss = 1468.79622467\n",
            "Iteration 46, loss = 1467.20723079\n",
            "Iteration 47, loss = 1464.66001056\n",
            "Iteration 48, loss = 1460.21647735\n",
            "Iteration 49, loss = 1462.53923727\n",
            "Iteration 50, loss = 1465.35719974\n",
            "Iteration 51, loss = 1456.92522418\n",
            "Iteration 52, loss = 1457.41846978\n",
            "Iteration 53, loss = 1454.58698828\n",
            "Iteration 54, loss = 1453.71572209\n",
            "Iteration 55, loss = 1450.79990478\n",
            "Iteration 56, loss = 1450.95558647\n",
            "Iteration 57, loss = 1451.81346091\n",
            "Iteration 58, loss = 1446.30832712\n",
            "Iteration 59, loss = 1445.29462389\n",
            "Iteration 60, loss = 1443.41999098\n",
            "Iteration 61, loss = 1442.25314909\n",
            "Iteration 62, loss = 1439.46962508\n",
            "Iteration 63, loss = 1437.88256093\n",
            "Iteration 64, loss = 1436.37916537\n",
            "Iteration 65, loss = 1435.46723370\n",
            "Iteration 66, loss = 1432.89536850\n",
            "Iteration 67, loss = 1431.00100227\n",
            "Iteration 68, loss = 1430.49793773\n",
            "Iteration 69, loss = 1427.68671658\n",
            "Iteration 70, loss = 1425.90686175\n",
            "Iteration 71, loss = 1422.93590059\n",
            "Iteration 72, loss = 1421.99260756\n",
            "Iteration 73, loss = 1421.84860876\n",
            "Iteration 74, loss = 1420.69698456\n",
            "Iteration 75, loss = 1416.26748386\n",
            "Iteration 76, loss = 1421.06737532\n",
            "Iteration 77, loss = 1413.83487232\n",
            "Iteration 78, loss = 1414.41820544\n",
            "Iteration 79, loss = 1410.77251297\n",
            "Iteration 80, loss = 1409.49679697\n",
            "Iteration 81, loss = 1407.56529696\n",
            "Iteration 82, loss = 1409.08783994\n",
            "Iteration 83, loss = 1402.64589523\n",
            "Iteration 84, loss = 1404.20186450\n",
            "Iteration 85, loss = 1400.69179113\n",
            "Iteration 86, loss = 1396.61966528\n",
            "Iteration 87, loss = 1393.89287518\n",
            "Iteration 88, loss = 1394.91251603\n",
            "Iteration 89, loss = 1393.30210536\n",
            "Iteration 90, loss = 1389.52284345\n",
            "Iteration 91, loss = 1391.09833232\n",
            "Iteration 92, loss = 1386.61160317\n",
            "Iteration 93, loss = 1388.65008645\n",
            "Iteration 94, loss = 1384.49384575\n",
            "Iteration 95, loss = 1384.50782375\n",
            "Iteration 96, loss = 1380.48251918\n",
            "Iteration 97, loss = 1378.83185468\n",
            "Iteration 98, loss = 1381.26307065\n",
            "Iteration 99, loss = 1375.27877231\n",
            "Iteration 100, loss = 1380.51357264\n",
            "Iteration 101, loss = 1373.10281253\n",
            "Iteration 102, loss = 1370.96644252\n",
            "Iteration 103, loss = 1374.99730037\n",
            "Iteration 104, loss = 1377.16401070\n",
            "Iteration 105, loss = 1372.70761173\n",
            "Iteration 106, loss = 1378.22859640\n",
            "Iteration 107, loss = 1368.02779113\n",
            "Iteration 108, loss = 1361.35466393\n",
            "Iteration 109, loss = 1368.14746735\n",
            "Iteration 110, loss = 1367.52616656\n",
            "Iteration 111, loss = 1363.25466785\n",
            "Iteration 112, loss = 1364.31220996\n",
            "Iteration 113, loss = 1362.35014463\n",
            "Iteration 114, loss = 1355.53287307\n",
            "Iteration 115, loss = 1355.10764927\n",
            "Iteration 116, loss = 1354.28056352\n",
            "Iteration 117, loss = 1353.00562023\n",
            "Iteration 118, loss = 1351.23868430\n",
            "Iteration 119, loss = 1350.19451753\n",
            "Iteration 120, loss = 1347.64510114\n",
            "Iteration 121, loss = 1348.26014111\n",
            "Iteration 122, loss = 1349.17293298\n",
            "Iteration 123, loss = 1343.76451894\n",
            "Iteration 124, loss = 1354.90200910\n",
            "Iteration 125, loss = 1352.51941716\n",
            "Iteration 126, loss = 1348.01743571\n",
            "Iteration 127, loss = 1342.30656394\n",
            "Iteration 128, loss = 1341.83298513\n",
            "Iteration 129, loss = 1339.43562671\n",
            "Iteration 130, loss = 1337.35650655\n",
            "Iteration 131, loss = 1338.00527753\n",
            "Iteration 132, loss = 1335.12744466\n",
            "Iteration 133, loss = 1334.25245047\n",
            "Iteration 134, loss = 1333.91605783\n",
            "Iteration 135, loss = 1340.49363730\n",
            "Iteration 136, loss = 1343.48981469\n",
            "Iteration 137, loss = 1337.74623841\n",
            "Iteration 138, loss = 1330.98909870\n",
            "Iteration 139, loss = 1334.26306188\n",
            "Iteration 140, loss = 1337.83960508\n",
            "Iteration 141, loss = 1326.43260679\n",
            "Iteration 142, loss = 1331.02643116\n",
            "Iteration 143, loss = 1327.01322053\n",
            "Iteration 144, loss = 1324.58741828\n",
            "Iteration 145, loss = 1329.11951165\n",
            "Iteration 146, loss = 1327.64583092\n",
            "Iteration 147, loss = 1325.89864795\n",
            "Iteration 148, loss = 1322.15088756\n",
            "Iteration 149, loss = 1329.88887026\n",
            "Iteration 150, loss = 1319.55699162\n",
            "Iteration 151, loss = 1319.31724047\n",
            "Iteration 152, loss = 1315.80213584\n",
            "Iteration 153, loss = 1320.58987070\n",
            "Iteration 154, loss = 1313.72079056\n",
            "Iteration 155, loss = 1316.22331441\n",
            "Iteration 156, loss = 1309.44480759\n",
            "Iteration 157, loss = 1314.73375363\n",
            "Iteration 158, loss = 1310.86918415\n",
            "Iteration 159, loss = 1320.46957353\n",
            "Iteration 160, loss = 1314.03542948\n",
            "Iteration 161, loss = 1314.35765438\n",
            "Iteration 162, loss = 1307.20559148\n",
            "Iteration 163, loss = 1313.48917574\n",
            "Iteration 164, loss = 1304.37118688\n",
            "Iteration 165, loss = 1312.34819889\n",
            "Iteration 166, loss = 1303.17262489\n",
            "Iteration 167, loss = 1300.68212734\n",
            "Iteration 168, loss = 1298.73483951\n",
            "Iteration 169, loss = 1297.01959325\n",
            "Iteration 170, loss = 1298.54937715\n",
            "Iteration 171, loss = 1294.53020549\n",
            "Iteration 172, loss = 1292.66600493\n",
            "Iteration 173, loss = 1294.68457686\n",
            "Iteration 174, loss = 1291.60248491\n",
            "Iteration 175, loss = 1299.64835819\n",
            "Iteration 176, loss = 1305.62903580\n",
            "Iteration 177, loss = 1297.47881471\n",
            "Iteration 178, loss = 1284.78678610\n",
            "Iteration 179, loss = 1282.70433685\n",
            "Iteration 180, loss = 1285.67776650\n",
            "Iteration 181, loss = 1283.33942632\n",
            "Iteration 182, loss = 1282.76440770\n",
            "Iteration 183, loss = 1278.98420612\n",
            "Iteration 184, loss = 1275.71656331\n",
            "Iteration 185, loss = 1298.34192545\n",
            "Iteration 186, loss = 1275.46689441\n",
            "Iteration 187, loss = 1287.17077018\n",
            "Iteration 188, loss = 1265.99403440\n",
            "Iteration 189, loss = 1290.26578693\n",
            "Iteration 190, loss = 1284.08903696\n",
            "Iteration 191, loss = 1281.20679947\n",
            "Iteration 192, loss = 1284.53456592\n",
            "Iteration 193, loss = 1261.67063433\n",
            "Iteration 194, loss = 1294.89330601\n",
            "Iteration 195, loss = 1264.03787669\n",
            "Iteration 196, loss = 1314.76621319\n",
            "Iteration 197, loss = 1246.74180308\n",
            "Iteration 198, loss = 1324.17407761\n",
            "Iteration 199, loss = 1263.66126251\n",
            "Iteration 200, loss = 1309.06767871\n"
          ]
        },
        {
          "name": "stderr",
          "output_type": "stream",
          "text": [
            "/Users/jacindhas/anaconda3/lib/python3.10/site-packages/sklearn/neural_network/_multilayer_perceptron.py:684: ConvergenceWarning: Stochastic Optimizer: Maximum iterations (200) reached and the optimization hasn't converged yet.\n",
            "  warnings.warn(\n"
          ]
        },
        {
          "data": {
            "text/html": [
              "<style>#sk-container-id-3 {color: black;background-color: white;}#sk-container-id-3 pre{padding: 0;}#sk-container-id-3 div.sk-toggleable {background-color: white;}#sk-container-id-3 label.sk-toggleable__label {cursor: pointer;display: block;width: 100%;margin-bottom: 0;padding: 0.3em;box-sizing: border-box;text-align: center;}#sk-container-id-3 label.sk-toggleable__label-arrow:before {content: \"▸\";float: left;margin-right: 0.25em;color: #696969;}#sk-container-id-3 label.sk-toggleable__label-arrow:hover:before {color: black;}#sk-container-id-3 div.sk-estimator:hover label.sk-toggleable__label-arrow:before {color: black;}#sk-container-id-3 div.sk-toggleable__content {max-height: 0;max-width: 0;overflow: hidden;text-align: left;background-color: #f0f8ff;}#sk-container-id-3 div.sk-toggleable__content pre {margin: 0.2em;color: black;border-radius: 0.25em;background-color: #f0f8ff;}#sk-container-id-3 input.sk-toggleable__control:checked~div.sk-toggleable__content {max-height: 200px;max-width: 100%;overflow: auto;}#sk-container-id-3 input.sk-toggleable__control:checked~label.sk-toggleable__label-arrow:before {content: \"▾\";}#sk-container-id-3 div.sk-estimator input.sk-toggleable__control:checked~label.sk-toggleable__label {background-color: #d4ebff;}#sk-container-id-3 div.sk-label input.sk-toggleable__control:checked~label.sk-toggleable__label {background-color: #d4ebff;}#sk-container-id-3 input.sk-hidden--visually {border: 0;clip: rect(1px 1px 1px 1px);clip: rect(1px, 1px, 1px, 1px);height: 1px;margin: -1px;overflow: hidden;padding: 0;position: absolute;width: 1px;}#sk-container-id-3 div.sk-estimator {font-family: monospace;background-color: #f0f8ff;border: 1px dotted black;border-radius: 0.25em;box-sizing: border-box;margin-bottom: 0.5em;}#sk-container-id-3 div.sk-estimator:hover {background-color: #d4ebff;}#sk-container-id-3 div.sk-parallel-item::after {content: \"\";width: 100%;border-bottom: 1px solid gray;flex-grow: 1;}#sk-container-id-3 div.sk-label:hover label.sk-toggleable__label {background-color: #d4ebff;}#sk-container-id-3 div.sk-serial::before {content: \"\";position: absolute;border-left: 1px solid gray;box-sizing: border-box;top: 0;bottom: 0;left: 50%;z-index: 0;}#sk-container-id-3 div.sk-serial {display: flex;flex-direction: column;align-items: center;background-color: white;padding-right: 0.2em;padding-left: 0.2em;position: relative;}#sk-container-id-3 div.sk-item {position: relative;z-index: 1;}#sk-container-id-3 div.sk-parallel {display: flex;align-items: stretch;justify-content: center;background-color: white;position: relative;}#sk-container-id-3 div.sk-item::before, #sk-container-id-3 div.sk-parallel-item::before {content: \"\";position: absolute;border-left: 1px solid gray;box-sizing: border-box;top: 0;bottom: 0;left: 50%;z-index: -1;}#sk-container-id-3 div.sk-parallel-item {display: flex;flex-direction: column;z-index: 1;position: relative;background-color: white;}#sk-container-id-3 div.sk-parallel-item:first-child::after {align-self: flex-end;width: 50%;}#sk-container-id-3 div.sk-parallel-item:last-child::after {align-self: flex-start;width: 50%;}#sk-container-id-3 div.sk-parallel-item:only-child::after {width: 0;}#sk-container-id-3 div.sk-dashed-wrapped {border: 1px dashed gray;margin: 0 0.4em 0.5em 0.4em;box-sizing: border-box;padding-bottom: 0.4em;background-color: white;}#sk-container-id-3 div.sk-label label {font-family: monospace;font-weight: bold;display: inline-block;line-height: 1.2em;}#sk-container-id-3 div.sk-label-container {text-align: center;}#sk-container-id-3 div.sk-container {/* jupyter's `normalize.less` sets `[hidden] { display: none; }` but bootstrap.min.css set `[hidden] { display: none !important; }` so we also need the `!important` here to be able to override the default hidden behavior on the sphinx rendered scikit-learn.org. See: https://github.com/scikit-learn/scikit-learn/issues/21755 */display: inline-block !important;position: relative;}#sk-container-id-3 div.sk-text-repr-fallback {display: none;}</style><div id=\"sk-container-id-3\" class=\"sk-top-container\"><div class=\"sk-text-repr-fallback\"><pre>MLPRegressor(hidden_layer_sizes=[100, 1001, 100], learning_rate_init=0.01,\n",
              "             random_state=42, verbose=True)</pre><b>In a Jupyter environment, please rerun this cell to show the HTML representation or trust the notebook. <br />On GitHub, the HTML representation is unable to render, please try loading this page with nbviewer.org.</b></div><div class=\"sk-container\" hidden><div class=\"sk-item\"><div class=\"sk-estimator sk-toggleable\"><input class=\"sk-toggleable__control sk-hidden--visually\" id=\"sk-estimator-id-3\" type=\"checkbox\" checked><label for=\"sk-estimator-id-3\" class=\"sk-toggleable__label sk-toggleable__label-arrow\">MLPRegressor</label><div class=\"sk-toggleable__content\"><pre>MLPRegressor(hidden_layer_sizes=[100, 1001, 100], learning_rate_init=0.01,\n",
              "             random_state=42, verbose=True)</pre></div></div></div></div></div>"
            ],
            "text/plain": [
              "MLPRegressor(hidden_layer_sizes=[100, 1001, 100], learning_rate_init=0.01,\n",
              "             random_state=42, verbose=True)"
            ]
          },
          "execution_count": 21,
          "metadata": {},
          "output_type": "execute_result"
        }
      ],
      "source": [
        "model_3 = MLPRegressor(hidden_layer_sizes = [100,1001,100],\n",
        "                      random_state = 42,\n",
        "                      activation = 'relu',\n",
        "                      solver = 'adam',\n",
        "                      learning_rate_init = 0.01,\n",
        "                      validation_fraction = 0.1,\n",
        "                      verbose = True)\n",
        "model_3.fit(X_train, y_train)"
      ]
    },
    {
      "cell_type": "code",
      "execution_count": null,
      "id": "acde0f80",
      "metadata": {
        "id": "acde0f80",
        "outputId": "c4ca5dde-9494-4fad-c796-eae135413f29"
      },
      "outputs": [
        {
          "name": "stdout",
          "output_type": "stream",
          "text": [
            "Mean Squared error for Model 3: 51.915857662848076\n"
          ]
        }
      ],
      "source": [
        "y_pred_3 = model_3.predict(X_test)\n",
        "rmse_3 = mean_squared_error(y_test, y_pred_3, squared = False)\n",
        "print(f\"Mean Squared error for Model 3: {rmse_3}\")"
      ]
    },
    {
      "cell_type": "code",
      "execution_count": null,
      "id": "72dcc139",
      "metadata": {
        "id": "72dcc139",
        "outputId": "bcb127ea-3aa9-4e4f-f275-b735bb45de82"
      },
      "outputs": [
        {
          "data": {
            "text/plain": [
              "0.5569964810342336"
            ]
          },
          "execution_count": 23,
          "metadata": {},
          "output_type": "execute_result"
        }
      ],
      "source": [
        "model_3.score(X_test, y_test)"
      ]
    },
    {
      "cell_type": "markdown",
      "id": "4cc019d6",
      "metadata": {
        "id": "4cc019d6"
      },
      "source": [
        "Return the coefficient of determination of the prediction.\n",
        "\n",
        "The coefficient of determination is defined as the residual sum of squares ((y_true - y_pred)** 2).sum() and  is the total sum of squares ((y_true - y_true.mean()) ** 2).sum(). The best possible score is 1.0 and it can be negative (because the model can be arbitrarily worse). A constant model that always predicts the expected value of y, disregarding the input features, would get a  score of 0.0."
      ]
    },
    {
      "cell_type": "code",
      "execution_count": null,
      "id": "1d77799c",
      "metadata": {
        "id": "1d77799c",
        "outputId": "92e2dcc9-9d2a-4278-c8d4-157d01740511"
      },
      "outputs": [
        {
          "data": {
            "text/html": [
              "<div>\n",
              "<style scoped>\n",
              "    .dataframe tbody tr th:only-of-type {\n",
              "        vertical-align: middle;\n",
              "    }\n",
              "\n",
              "    .dataframe tbody tr th {\n",
              "        vertical-align: top;\n",
              "    }\n",
              "\n",
              "    .dataframe thead th {\n",
              "        text-align: right;\n",
              "    }\n",
              "</style>\n",
              "<table border=\"1\" class=\"dataframe\">\n",
              "  <thead>\n",
              "    <tr style=\"text-align: right;\">\n",
              "      <th></th>\n",
              "      <th>Model 1</th>\n",
              "      <th>Model 2</th>\n",
              "      <th>Model 3</th>\n",
              "    </tr>\n",
              "  </thead>\n",
              "  <tbody>\n",
              "    <tr>\n",
              "      <th>0</th>\n",
              "      <td>0.373957</td>\n",
              "      <td>0.472468</td>\n",
              "      <td>0.556996</td>\n",
              "    </tr>\n",
              "  </tbody>\n",
              "</table>\n",
              "</div>"
            ],
            "text/plain": [
              "    Model 1   Model 2   Model 3\n",
              "0  0.373957  0.472468  0.556996"
            ]
          },
          "execution_count": 25,
          "metadata": {},
          "output_type": "execute_result"
        }
      ],
      "source": [
        "score_1 = model_1.score(X_test, y_test)\n",
        "score_2 = model_2.score(X_test, y_test)\n",
        "score_3 = model_3.score(X_test, y_test)\n",
        "\n",
        "score_pd = pd.DataFrame([[score_1, score_2, score_3]],\n",
        "                        columns=['Model 1', 'Model 2', 'Model 3'])\n",
        "score_pd"
      ]
    },
    {
      "cell_type": "markdown",
      "id": "c02ec7f8",
      "metadata": {
        "id": "c02ec7f8"
      },
      "source": [
        "it has increased which is good"
      ]
    },
    {
      "cell_type": "markdown",
      "id": "efbcb808",
      "metadata": {
        "id": "efbcb808"
      },
      "source": [
        "## Classification\n",
        "\n",
        "Trying the Iris Dataset ..."
      ]
    },
    {
      "cell_type": "code",
      "execution_count": 18,
      "id": "909bed88",
      "metadata": {
        "id": "909bed88"
      },
      "outputs": [],
      "source": [
        "# Importing required libraries\n",
        "import pandas as pd\n",
        "import numpy as np\n",
        "import matplotlib.pyplot as plt\n",
        "\n",
        "# for dataset\n",
        "from sklearn.datasets import load_iris\n",
        "\n",
        "# to split to train and test\n",
        "from sklearn.model_selection import train_test_split\n",
        "\n",
        "# for MLP\n",
        "from sklearn.neural_network import MLPClassifier\n",
        "from sklearn.metrics import accuracy_score"
      ]
    },
    {
      "cell_type": "code",
      "execution_count": 2,
      "id": "ec7ae58f",
      "metadata": {
        "id": "ec7ae58f"
      },
      "outputs": [],
      "source": [
        "iris = load_iris()"
      ]
    },
    {
      "cell_type": "code",
      "execution_count": 3,
      "id": "e95d75aa",
      "metadata": {
        "id": "e95d75aa",
        "outputId": "3d7c3d3f-07ae-4116-9e8f-eab17d4993b2",
        "colab": {
          "base_uri": "https://localhost:8080/"
        }
      },
      "outputs": [
        {
          "output_type": "stream",
          "name": "stdout",
          "text": [
            "Number of records in the data: 150\n",
            "Number of records in the target: 150\n",
            "Features: ['sepal length (cm)', 'sepal width (cm)', 'petal length (cm)', 'petal width (cm)'] \n",
            "Labels in the target: ['setosa' 'versicolor' 'virginica']\n"
          ]
        }
      ],
      "source": [
        "print(f\"Number of records in the data: {len(iris.data)}\")\n",
        "print(f\"Number of records in the target: {len(iris.target)}\")\n",
        "print(f\"Features: {iris.feature_names} \")\n",
        "print(f\"Labels in the target: {iris.target_names}\")"
      ]
    },
    {
      "cell_type": "markdown",
      "source": [
        "### Splitting into train and test"
      ],
      "metadata": {
        "id": "79c9cc1d"
      },
      "id": "79c9cc1d"
    },
    {
      "cell_type": "code",
      "source": [
        "X_train, X_test, y_train, y_test = train_test_split(iris.data, iris.target, test_size = 0.25,\n",
        "                                                    random_state = 42)\n",
        "\n",
        "print(f\"Number of training set sample: ({len(X_train), len(y_train)})\")\n",
        "print(f\"Number of testing set sample: ({len(X_test), len(y_test)})\")"
      ],
      "metadata": {
        "id": "TlkzAUgEvs0f",
        "outputId": "8d0bf3e7-b84d-4d95-e074-7e011952a94b",
        "colab": {
          "base_uri": "https://localhost:8080/"
        }
      },
      "id": "TlkzAUgEvs0f",
      "execution_count": 6,
      "outputs": [
        {
          "output_type": "stream",
          "name": "stdout",
          "text": [
            "Number of training set sample: ((112, 112))\n",
            "Number of testing set sample: ((38, 38))\n"
          ]
        }
      ]
    },
    {
      "cell_type": "markdown",
      "source": [
        "### Visualize the data"
      ],
      "metadata": {
        "id": "1jQDZuVCwle0"
      },
      "id": "1jQDZuVCwle0"
    },
    {
      "cell_type": "code",
      "source": [
        "temp_data = pd.DataFrame(X_train, columns = iris.feature_names)\n",
        "temp_data.head()"
      ],
      "metadata": {
        "id": "Au9F2nNwwqZC",
        "outputId": "289edad3-c8c2-4bae-c954-f2a546d1791d",
        "colab": {
          "base_uri": "https://localhost:8080/",
          "height": 206
        }
      },
      "id": "Au9F2nNwwqZC",
      "execution_count": 9,
      "outputs": [
        {
          "output_type": "execute_result",
          "data": {
            "text/plain": [
              "   sepal length (cm)  sepal width (cm)  petal length (cm)  petal width (cm)\n",
              "0                5.0               3.6                1.4               0.2\n",
              "1                5.2               4.1                1.5               0.1\n",
              "2                5.8               2.7                5.1               1.9\n",
              "3                6.0               3.4                4.5               1.6\n",
              "4                6.7               3.1                4.7               1.5"
            ],
            "text/html": [
              "\n",
              "  <div id=\"df-cf226a95-19d6-4fea-86bc-07ef19885e53\" class=\"colab-df-container\">\n",
              "    <div>\n",
              "<style scoped>\n",
              "    .dataframe tbody tr th:only-of-type {\n",
              "        vertical-align: middle;\n",
              "    }\n",
              "\n",
              "    .dataframe tbody tr th {\n",
              "        vertical-align: top;\n",
              "    }\n",
              "\n",
              "    .dataframe thead th {\n",
              "        text-align: right;\n",
              "    }\n",
              "</style>\n",
              "<table border=\"1\" class=\"dataframe\">\n",
              "  <thead>\n",
              "    <tr style=\"text-align: right;\">\n",
              "      <th></th>\n",
              "      <th>sepal length (cm)</th>\n",
              "      <th>sepal width (cm)</th>\n",
              "      <th>petal length (cm)</th>\n",
              "      <th>petal width (cm)</th>\n",
              "    </tr>\n",
              "  </thead>\n",
              "  <tbody>\n",
              "    <tr>\n",
              "      <th>0</th>\n",
              "      <td>5.0</td>\n",
              "      <td>3.6</td>\n",
              "      <td>1.4</td>\n",
              "      <td>0.2</td>\n",
              "    </tr>\n",
              "    <tr>\n",
              "      <th>1</th>\n",
              "      <td>5.2</td>\n",
              "      <td>4.1</td>\n",
              "      <td>1.5</td>\n",
              "      <td>0.1</td>\n",
              "    </tr>\n",
              "    <tr>\n",
              "      <th>2</th>\n",
              "      <td>5.8</td>\n",
              "      <td>2.7</td>\n",
              "      <td>5.1</td>\n",
              "      <td>1.9</td>\n",
              "    </tr>\n",
              "    <tr>\n",
              "      <th>3</th>\n",
              "      <td>6.0</td>\n",
              "      <td>3.4</td>\n",
              "      <td>4.5</td>\n",
              "      <td>1.6</td>\n",
              "    </tr>\n",
              "    <tr>\n",
              "      <th>4</th>\n",
              "      <td>6.7</td>\n",
              "      <td>3.1</td>\n",
              "      <td>4.7</td>\n",
              "      <td>1.5</td>\n",
              "    </tr>\n",
              "  </tbody>\n",
              "</table>\n",
              "</div>\n",
              "    <div class=\"colab-df-buttons\">\n",
              "\n",
              "  <div class=\"colab-df-container\">\n",
              "    <button class=\"colab-df-convert\" onclick=\"convertToInteractive('df-cf226a95-19d6-4fea-86bc-07ef19885e53')\"\n",
              "            title=\"Convert this dataframe to an interactive table.\"\n",
              "            style=\"display:none;\">\n",
              "\n",
              "  <svg xmlns=\"http://www.w3.org/2000/svg\" height=\"24px\" viewBox=\"0 -960 960 960\">\n",
              "    <path d=\"M120-120v-720h720v720H120Zm60-500h600v-160H180v160Zm220 220h160v-160H400v160Zm0 220h160v-160H400v160ZM180-400h160v-160H180v160Zm440 0h160v-160H620v160ZM180-180h160v-160H180v160Zm440 0h160v-160H620v160Z\"/>\n",
              "  </svg>\n",
              "    </button>\n",
              "\n",
              "  <style>\n",
              "    .colab-df-container {\n",
              "      display:flex;\n",
              "      gap: 12px;\n",
              "    }\n",
              "\n",
              "    .colab-df-convert {\n",
              "      background-color: #E8F0FE;\n",
              "      border: none;\n",
              "      border-radius: 50%;\n",
              "      cursor: pointer;\n",
              "      display: none;\n",
              "      fill: #1967D2;\n",
              "      height: 32px;\n",
              "      padding: 0 0 0 0;\n",
              "      width: 32px;\n",
              "    }\n",
              "\n",
              "    .colab-df-convert:hover {\n",
              "      background-color: #E2EBFA;\n",
              "      box-shadow: 0px 1px 2px rgba(60, 64, 67, 0.3), 0px 1px 3px 1px rgba(60, 64, 67, 0.15);\n",
              "      fill: #174EA6;\n",
              "    }\n",
              "\n",
              "    .colab-df-buttons div {\n",
              "      margin-bottom: 4px;\n",
              "    }\n",
              "\n",
              "    [theme=dark] .colab-df-convert {\n",
              "      background-color: #3B4455;\n",
              "      fill: #D2E3FC;\n",
              "    }\n",
              "\n",
              "    [theme=dark] .colab-df-convert:hover {\n",
              "      background-color: #434B5C;\n",
              "      box-shadow: 0px 1px 3px 1px rgba(0, 0, 0, 0.15);\n",
              "      filter: drop-shadow(0px 1px 2px rgba(0, 0, 0, 0.3));\n",
              "      fill: #FFFFFF;\n",
              "    }\n",
              "  </style>\n",
              "\n",
              "    <script>\n",
              "      const buttonEl =\n",
              "        document.querySelector('#df-cf226a95-19d6-4fea-86bc-07ef19885e53 button.colab-df-convert');\n",
              "      buttonEl.style.display =\n",
              "        google.colab.kernel.accessAllowed ? 'block' : 'none';\n",
              "\n",
              "      async function convertToInteractive(key) {\n",
              "        const element = document.querySelector('#df-cf226a95-19d6-4fea-86bc-07ef19885e53');\n",
              "        const dataTable =\n",
              "          await google.colab.kernel.invokeFunction('convertToInteractive',\n",
              "                                                    [key], {});\n",
              "        if (!dataTable) return;\n",
              "\n",
              "        const docLinkHtml = 'Like what you see? Visit the ' +\n",
              "          '<a target=\"_blank\" href=https://colab.research.google.com/notebooks/data_table.ipynb>data table notebook</a>'\n",
              "          + ' to learn more about interactive tables.';\n",
              "        element.innerHTML = '';\n",
              "        dataTable['output_type'] = 'display_data';\n",
              "        await google.colab.output.renderOutput(dataTable, element);\n",
              "        const docLink = document.createElement('div');\n",
              "        docLink.innerHTML = docLinkHtml;\n",
              "        element.appendChild(docLink);\n",
              "      }\n",
              "    </script>\n",
              "  </div>\n",
              "\n",
              "\n",
              "<div id=\"df-abf0b40b-2453-4d48-afe9-ce69e8eb4262\">\n",
              "  <button class=\"colab-df-quickchart\" onclick=\"quickchart('df-abf0b40b-2453-4d48-afe9-ce69e8eb4262')\"\n",
              "            title=\"Suggest charts\"\n",
              "            style=\"display:none;\">\n",
              "\n",
              "<svg xmlns=\"http://www.w3.org/2000/svg\" height=\"24px\"viewBox=\"0 0 24 24\"\n",
              "     width=\"24px\">\n",
              "    <g>\n",
              "        <path d=\"M19 3H5c-1.1 0-2 .9-2 2v14c0 1.1.9 2 2 2h14c1.1 0 2-.9 2-2V5c0-1.1-.9-2-2-2zM9 17H7v-7h2v7zm4 0h-2V7h2v10zm4 0h-2v-4h2v4z\"/>\n",
              "    </g>\n",
              "</svg>\n",
              "  </button>\n",
              "\n",
              "<style>\n",
              "  .colab-df-quickchart {\n",
              "      --bg-color: #E8F0FE;\n",
              "      --fill-color: #1967D2;\n",
              "      --hover-bg-color: #E2EBFA;\n",
              "      --hover-fill-color: #174EA6;\n",
              "      --disabled-fill-color: #AAA;\n",
              "      --disabled-bg-color: #DDD;\n",
              "  }\n",
              "\n",
              "  [theme=dark] .colab-df-quickchart {\n",
              "      --bg-color: #3B4455;\n",
              "      --fill-color: #D2E3FC;\n",
              "      --hover-bg-color: #434B5C;\n",
              "      --hover-fill-color: #FFFFFF;\n",
              "      --disabled-bg-color: #3B4455;\n",
              "      --disabled-fill-color: #666;\n",
              "  }\n",
              "\n",
              "  .colab-df-quickchart {\n",
              "    background-color: var(--bg-color);\n",
              "    border: none;\n",
              "    border-radius: 50%;\n",
              "    cursor: pointer;\n",
              "    display: none;\n",
              "    fill: var(--fill-color);\n",
              "    height: 32px;\n",
              "    padding: 0;\n",
              "    width: 32px;\n",
              "  }\n",
              "\n",
              "  .colab-df-quickchart:hover {\n",
              "    background-color: var(--hover-bg-color);\n",
              "    box-shadow: 0 1px 2px rgba(60, 64, 67, 0.3), 0 1px 3px 1px rgba(60, 64, 67, 0.15);\n",
              "    fill: var(--button-hover-fill-color);\n",
              "  }\n",
              "\n",
              "  .colab-df-quickchart-complete:disabled,\n",
              "  .colab-df-quickchart-complete:disabled:hover {\n",
              "    background-color: var(--disabled-bg-color);\n",
              "    fill: var(--disabled-fill-color);\n",
              "    box-shadow: none;\n",
              "  }\n",
              "\n",
              "  .colab-df-spinner {\n",
              "    border: 2px solid var(--fill-color);\n",
              "    border-color: transparent;\n",
              "    border-bottom-color: var(--fill-color);\n",
              "    animation:\n",
              "      spin 1s steps(1) infinite;\n",
              "  }\n",
              "\n",
              "  @keyframes spin {\n",
              "    0% {\n",
              "      border-color: transparent;\n",
              "      border-bottom-color: var(--fill-color);\n",
              "      border-left-color: var(--fill-color);\n",
              "    }\n",
              "    20% {\n",
              "      border-color: transparent;\n",
              "      border-left-color: var(--fill-color);\n",
              "      border-top-color: var(--fill-color);\n",
              "    }\n",
              "    30% {\n",
              "      border-color: transparent;\n",
              "      border-left-color: var(--fill-color);\n",
              "      border-top-color: var(--fill-color);\n",
              "      border-right-color: var(--fill-color);\n",
              "    }\n",
              "    40% {\n",
              "      border-color: transparent;\n",
              "      border-right-color: var(--fill-color);\n",
              "      border-top-color: var(--fill-color);\n",
              "    }\n",
              "    60% {\n",
              "      border-color: transparent;\n",
              "      border-right-color: var(--fill-color);\n",
              "    }\n",
              "    80% {\n",
              "      border-color: transparent;\n",
              "      border-right-color: var(--fill-color);\n",
              "      border-bottom-color: var(--fill-color);\n",
              "    }\n",
              "    90% {\n",
              "      border-color: transparent;\n",
              "      border-bottom-color: var(--fill-color);\n",
              "    }\n",
              "  }\n",
              "</style>\n",
              "\n",
              "  <script>\n",
              "    async function quickchart(key) {\n",
              "      const quickchartButtonEl =\n",
              "        document.querySelector('#' + key + ' button');\n",
              "      quickchartButtonEl.disabled = true;  // To prevent multiple clicks.\n",
              "      quickchartButtonEl.classList.add('colab-df-spinner');\n",
              "      try {\n",
              "        const charts = await google.colab.kernel.invokeFunction(\n",
              "            'suggestCharts', [key], {});\n",
              "      } catch (error) {\n",
              "        console.error('Error during call to suggestCharts:', error);\n",
              "      }\n",
              "      quickchartButtonEl.classList.remove('colab-df-spinner');\n",
              "      quickchartButtonEl.classList.add('colab-df-quickchart-complete');\n",
              "    }\n",
              "    (() => {\n",
              "      let quickchartButtonEl =\n",
              "        document.querySelector('#df-abf0b40b-2453-4d48-afe9-ce69e8eb4262 button');\n",
              "      quickchartButtonEl.style.display =\n",
              "        google.colab.kernel.accessAllowed ? 'block' : 'none';\n",
              "    })();\n",
              "  </script>\n",
              "</div>\n",
              "\n",
              "    </div>\n",
              "  </div>\n"
            ],
            "application/vnd.google.colaboratory.intrinsic+json": {
              "type": "dataframe",
              "variable_name": "temp_data",
              "summary": "{\n  \"name\": \"temp_data\",\n  \"rows\": 112,\n  \"fields\": [\n    {\n      \"column\": \"sepal length (cm)\",\n      \"properties\": {\n        \"dtype\": \"number\",\n        \"std\": 0.8191227218567639,\n        \"min\": 4.3,\n        \"max\": 7.7,\n        \"num_unique_values\": 34,\n        \"samples\": [\n          7.7,\n          4.9,\n          6.5\n        ],\n        \"semantic_type\": \"\",\n        \"description\": \"\"\n      }\n    },\n    {\n      \"column\": \"sepal width (cm)\",\n      \"properties\": {\n        \"dtype\": \"number\",\n        \"std\": 0.4371199397177412,\n        \"min\": 2.0,\n        \"max\": 4.2,\n        \"num_unique_values\": 22,\n        \"samples\": [\n          3.6,\n          2.0,\n          2.8\n        ],\n        \"semantic_type\": \"\",\n        \"description\": \"\"\n      }\n    },\n    {\n      \"column\": \"petal length (cm)\",\n      \"properties\": {\n        \"dtype\": \"number\",\n        \"std\": 1.7353097335345846,\n        \"min\": 1.1,\n        \"max\": 6.7,\n        \"num_unique_values\": 39,\n        \"samples\": [\n          4.6,\n          6.3,\n          4.7\n        ],\n        \"semantic_type\": \"\",\n        \"description\": \"\"\n      }\n    },\n    {\n      \"column\": \"petal width (cm)\",\n      \"properties\": {\n        \"dtype\": \"number\",\n        \"std\": 0.7479530195364675,\n        \"min\": 0.1,\n        \"max\": 2.5,\n        \"num_unique_values\": 22,\n        \"samples\": [\n          0.2,\n          0.3,\n          1.4\n        ],\n        \"semantic_type\": \"\",\n        \"description\": \"\"\n      }\n    }\n  ]\n}"
            }
          },
          "metadata": {},
          "execution_count": 9
        }
      ]
    },
    {
      "cell_type": "code",
      "source": [
        "temp_data.info()"
      ],
      "metadata": {
        "id": "JJsooi6Zw3cZ",
        "outputId": "7c700855-4639-4b25-bb29-fe66b5881f9e",
        "colab": {
          "base_uri": "https://localhost:8080/"
        }
      },
      "id": "JJsooi6Zw3cZ",
      "execution_count": 10,
      "outputs": [
        {
          "output_type": "stream",
          "name": "stdout",
          "text": [
            "<class 'pandas.core.frame.DataFrame'>\n",
            "RangeIndex: 112 entries, 0 to 111\n",
            "Data columns (total 4 columns):\n",
            " #   Column             Non-Null Count  Dtype  \n",
            "---  ------             --------------  -----  \n",
            " 0   sepal length (cm)  112 non-null    float64\n",
            " 1   sepal width (cm)   112 non-null    float64\n",
            " 2   petal length (cm)  112 non-null    float64\n",
            " 3   petal width (cm)   112 non-null    float64\n",
            "dtypes: float64(4)\n",
            "memory usage: 3.6 KB\n"
          ]
        }
      ]
    },
    {
      "cell_type": "markdown",
      "source": [
        "There is no null values in the data."
      ],
      "metadata": {
        "id": "GYMkIjiExG-T"
      },
      "id": "GYMkIjiExG-T"
    },
    {
      "cell_type": "code",
      "source": [
        "temp_data.describe()"
      ],
      "metadata": {
        "id": "Yzn90SApyAoY",
        "outputId": "857cb167-f6e8-4fe8-90a0-705d511e77c2",
        "colab": {
          "base_uri": "https://localhost:8080/",
          "height": 300
        }
      },
      "id": "Yzn90SApyAoY",
      "execution_count": 11,
      "outputs": [
        {
          "output_type": "execute_result",
          "data": {
            "text/plain": [
              "       sepal length (cm)  sepal width (cm)  petal length (cm)  \\\n",
              "count         112.000000        112.000000         112.000000   \n",
              "mean            5.830357          3.040179           3.807143   \n",
              "std             0.819123          0.437120           1.735310   \n",
              "min             4.300000          2.000000           1.100000   \n",
              "25%             5.100000          2.800000           1.600000   \n",
              "50%             5.800000          3.000000           4.300000   \n",
              "75%             6.400000          3.300000           5.100000   \n",
              "max             7.700000          4.200000           6.700000   \n",
              "\n",
              "       petal width (cm)  \n",
              "count        112.000000  \n",
              "mean           1.214286  \n",
              "std            0.747953  \n",
              "min            0.100000  \n",
              "25%            0.300000  \n",
              "50%            1.300000  \n",
              "75%            1.800000  \n",
              "max            2.500000  "
            ],
            "text/html": [
              "\n",
              "  <div id=\"df-5b963ab2-389c-4c22-981f-01ad4ee6417d\" class=\"colab-df-container\">\n",
              "    <div>\n",
              "<style scoped>\n",
              "    .dataframe tbody tr th:only-of-type {\n",
              "        vertical-align: middle;\n",
              "    }\n",
              "\n",
              "    .dataframe tbody tr th {\n",
              "        vertical-align: top;\n",
              "    }\n",
              "\n",
              "    .dataframe thead th {\n",
              "        text-align: right;\n",
              "    }\n",
              "</style>\n",
              "<table border=\"1\" class=\"dataframe\">\n",
              "  <thead>\n",
              "    <tr style=\"text-align: right;\">\n",
              "      <th></th>\n",
              "      <th>sepal length (cm)</th>\n",
              "      <th>sepal width (cm)</th>\n",
              "      <th>petal length (cm)</th>\n",
              "      <th>petal width (cm)</th>\n",
              "    </tr>\n",
              "  </thead>\n",
              "  <tbody>\n",
              "    <tr>\n",
              "      <th>count</th>\n",
              "      <td>112.000000</td>\n",
              "      <td>112.000000</td>\n",
              "      <td>112.000000</td>\n",
              "      <td>112.000000</td>\n",
              "    </tr>\n",
              "    <tr>\n",
              "      <th>mean</th>\n",
              "      <td>5.830357</td>\n",
              "      <td>3.040179</td>\n",
              "      <td>3.807143</td>\n",
              "      <td>1.214286</td>\n",
              "    </tr>\n",
              "    <tr>\n",
              "      <th>std</th>\n",
              "      <td>0.819123</td>\n",
              "      <td>0.437120</td>\n",
              "      <td>1.735310</td>\n",
              "      <td>0.747953</td>\n",
              "    </tr>\n",
              "    <tr>\n",
              "      <th>min</th>\n",
              "      <td>4.300000</td>\n",
              "      <td>2.000000</td>\n",
              "      <td>1.100000</td>\n",
              "      <td>0.100000</td>\n",
              "    </tr>\n",
              "    <tr>\n",
              "      <th>25%</th>\n",
              "      <td>5.100000</td>\n",
              "      <td>2.800000</td>\n",
              "      <td>1.600000</td>\n",
              "      <td>0.300000</td>\n",
              "    </tr>\n",
              "    <tr>\n",
              "      <th>50%</th>\n",
              "      <td>5.800000</td>\n",
              "      <td>3.000000</td>\n",
              "      <td>4.300000</td>\n",
              "      <td>1.300000</td>\n",
              "    </tr>\n",
              "    <tr>\n",
              "      <th>75%</th>\n",
              "      <td>6.400000</td>\n",
              "      <td>3.300000</td>\n",
              "      <td>5.100000</td>\n",
              "      <td>1.800000</td>\n",
              "    </tr>\n",
              "    <tr>\n",
              "      <th>max</th>\n",
              "      <td>7.700000</td>\n",
              "      <td>4.200000</td>\n",
              "      <td>6.700000</td>\n",
              "      <td>2.500000</td>\n",
              "    </tr>\n",
              "  </tbody>\n",
              "</table>\n",
              "</div>\n",
              "    <div class=\"colab-df-buttons\">\n",
              "\n",
              "  <div class=\"colab-df-container\">\n",
              "    <button class=\"colab-df-convert\" onclick=\"convertToInteractive('df-5b963ab2-389c-4c22-981f-01ad4ee6417d')\"\n",
              "            title=\"Convert this dataframe to an interactive table.\"\n",
              "            style=\"display:none;\">\n",
              "\n",
              "  <svg xmlns=\"http://www.w3.org/2000/svg\" height=\"24px\" viewBox=\"0 -960 960 960\">\n",
              "    <path d=\"M120-120v-720h720v720H120Zm60-500h600v-160H180v160Zm220 220h160v-160H400v160Zm0 220h160v-160H400v160ZM180-400h160v-160H180v160Zm440 0h160v-160H620v160ZM180-180h160v-160H180v160Zm440 0h160v-160H620v160Z\"/>\n",
              "  </svg>\n",
              "    </button>\n",
              "\n",
              "  <style>\n",
              "    .colab-df-container {\n",
              "      display:flex;\n",
              "      gap: 12px;\n",
              "    }\n",
              "\n",
              "    .colab-df-convert {\n",
              "      background-color: #E8F0FE;\n",
              "      border: none;\n",
              "      border-radius: 50%;\n",
              "      cursor: pointer;\n",
              "      display: none;\n",
              "      fill: #1967D2;\n",
              "      height: 32px;\n",
              "      padding: 0 0 0 0;\n",
              "      width: 32px;\n",
              "    }\n",
              "\n",
              "    .colab-df-convert:hover {\n",
              "      background-color: #E2EBFA;\n",
              "      box-shadow: 0px 1px 2px rgba(60, 64, 67, 0.3), 0px 1px 3px 1px rgba(60, 64, 67, 0.15);\n",
              "      fill: #174EA6;\n",
              "    }\n",
              "\n",
              "    .colab-df-buttons div {\n",
              "      margin-bottom: 4px;\n",
              "    }\n",
              "\n",
              "    [theme=dark] .colab-df-convert {\n",
              "      background-color: #3B4455;\n",
              "      fill: #D2E3FC;\n",
              "    }\n",
              "\n",
              "    [theme=dark] .colab-df-convert:hover {\n",
              "      background-color: #434B5C;\n",
              "      box-shadow: 0px 1px 3px 1px rgba(0, 0, 0, 0.15);\n",
              "      filter: drop-shadow(0px 1px 2px rgba(0, 0, 0, 0.3));\n",
              "      fill: #FFFFFF;\n",
              "    }\n",
              "  </style>\n",
              "\n",
              "    <script>\n",
              "      const buttonEl =\n",
              "        document.querySelector('#df-5b963ab2-389c-4c22-981f-01ad4ee6417d button.colab-df-convert');\n",
              "      buttonEl.style.display =\n",
              "        google.colab.kernel.accessAllowed ? 'block' : 'none';\n",
              "\n",
              "      async function convertToInteractive(key) {\n",
              "        const element = document.querySelector('#df-5b963ab2-389c-4c22-981f-01ad4ee6417d');\n",
              "        const dataTable =\n",
              "          await google.colab.kernel.invokeFunction('convertToInteractive',\n",
              "                                                    [key], {});\n",
              "        if (!dataTable) return;\n",
              "\n",
              "        const docLinkHtml = 'Like what you see? Visit the ' +\n",
              "          '<a target=\"_blank\" href=https://colab.research.google.com/notebooks/data_table.ipynb>data table notebook</a>'\n",
              "          + ' to learn more about interactive tables.';\n",
              "        element.innerHTML = '';\n",
              "        dataTable['output_type'] = 'display_data';\n",
              "        await google.colab.output.renderOutput(dataTable, element);\n",
              "        const docLink = document.createElement('div');\n",
              "        docLink.innerHTML = docLinkHtml;\n",
              "        element.appendChild(docLink);\n",
              "      }\n",
              "    </script>\n",
              "  </div>\n",
              "\n",
              "\n",
              "<div id=\"df-dd5392dc-0efb-426c-9278-f54ee70dc70e\">\n",
              "  <button class=\"colab-df-quickchart\" onclick=\"quickchart('df-dd5392dc-0efb-426c-9278-f54ee70dc70e')\"\n",
              "            title=\"Suggest charts\"\n",
              "            style=\"display:none;\">\n",
              "\n",
              "<svg xmlns=\"http://www.w3.org/2000/svg\" height=\"24px\"viewBox=\"0 0 24 24\"\n",
              "     width=\"24px\">\n",
              "    <g>\n",
              "        <path d=\"M19 3H5c-1.1 0-2 .9-2 2v14c0 1.1.9 2 2 2h14c1.1 0 2-.9 2-2V5c0-1.1-.9-2-2-2zM9 17H7v-7h2v7zm4 0h-2V7h2v10zm4 0h-2v-4h2v4z\"/>\n",
              "    </g>\n",
              "</svg>\n",
              "  </button>\n",
              "\n",
              "<style>\n",
              "  .colab-df-quickchart {\n",
              "      --bg-color: #E8F0FE;\n",
              "      --fill-color: #1967D2;\n",
              "      --hover-bg-color: #E2EBFA;\n",
              "      --hover-fill-color: #174EA6;\n",
              "      --disabled-fill-color: #AAA;\n",
              "      --disabled-bg-color: #DDD;\n",
              "  }\n",
              "\n",
              "  [theme=dark] .colab-df-quickchart {\n",
              "      --bg-color: #3B4455;\n",
              "      --fill-color: #D2E3FC;\n",
              "      --hover-bg-color: #434B5C;\n",
              "      --hover-fill-color: #FFFFFF;\n",
              "      --disabled-bg-color: #3B4455;\n",
              "      --disabled-fill-color: #666;\n",
              "  }\n",
              "\n",
              "  .colab-df-quickchart {\n",
              "    background-color: var(--bg-color);\n",
              "    border: none;\n",
              "    border-radius: 50%;\n",
              "    cursor: pointer;\n",
              "    display: none;\n",
              "    fill: var(--fill-color);\n",
              "    height: 32px;\n",
              "    padding: 0;\n",
              "    width: 32px;\n",
              "  }\n",
              "\n",
              "  .colab-df-quickchart:hover {\n",
              "    background-color: var(--hover-bg-color);\n",
              "    box-shadow: 0 1px 2px rgba(60, 64, 67, 0.3), 0 1px 3px 1px rgba(60, 64, 67, 0.15);\n",
              "    fill: var(--button-hover-fill-color);\n",
              "  }\n",
              "\n",
              "  .colab-df-quickchart-complete:disabled,\n",
              "  .colab-df-quickchart-complete:disabled:hover {\n",
              "    background-color: var(--disabled-bg-color);\n",
              "    fill: var(--disabled-fill-color);\n",
              "    box-shadow: none;\n",
              "  }\n",
              "\n",
              "  .colab-df-spinner {\n",
              "    border: 2px solid var(--fill-color);\n",
              "    border-color: transparent;\n",
              "    border-bottom-color: var(--fill-color);\n",
              "    animation:\n",
              "      spin 1s steps(1) infinite;\n",
              "  }\n",
              "\n",
              "  @keyframes spin {\n",
              "    0% {\n",
              "      border-color: transparent;\n",
              "      border-bottom-color: var(--fill-color);\n",
              "      border-left-color: var(--fill-color);\n",
              "    }\n",
              "    20% {\n",
              "      border-color: transparent;\n",
              "      border-left-color: var(--fill-color);\n",
              "      border-top-color: var(--fill-color);\n",
              "    }\n",
              "    30% {\n",
              "      border-color: transparent;\n",
              "      border-left-color: var(--fill-color);\n",
              "      border-top-color: var(--fill-color);\n",
              "      border-right-color: var(--fill-color);\n",
              "    }\n",
              "    40% {\n",
              "      border-color: transparent;\n",
              "      border-right-color: var(--fill-color);\n",
              "      border-top-color: var(--fill-color);\n",
              "    }\n",
              "    60% {\n",
              "      border-color: transparent;\n",
              "      border-right-color: var(--fill-color);\n",
              "    }\n",
              "    80% {\n",
              "      border-color: transparent;\n",
              "      border-right-color: var(--fill-color);\n",
              "      border-bottom-color: var(--fill-color);\n",
              "    }\n",
              "    90% {\n",
              "      border-color: transparent;\n",
              "      border-bottom-color: var(--fill-color);\n",
              "    }\n",
              "  }\n",
              "</style>\n",
              "\n",
              "  <script>\n",
              "    async function quickchart(key) {\n",
              "      const quickchartButtonEl =\n",
              "        document.querySelector('#' + key + ' button');\n",
              "      quickchartButtonEl.disabled = true;  // To prevent multiple clicks.\n",
              "      quickchartButtonEl.classList.add('colab-df-spinner');\n",
              "      try {\n",
              "        const charts = await google.colab.kernel.invokeFunction(\n",
              "            'suggestCharts', [key], {});\n",
              "      } catch (error) {\n",
              "        console.error('Error during call to suggestCharts:', error);\n",
              "      }\n",
              "      quickchartButtonEl.classList.remove('colab-df-spinner');\n",
              "      quickchartButtonEl.classList.add('colab-df-quickchart-complete');\n",
              "    }\n",
              "    (() => {\n",
              "      let quickchartButtonEl =\n",
              "        document.querySelector('#df-dd5392dc-0efb-426c-9278-f54ee70dc70e button');\n",
              "      quickchartButtonEl.style.display =\n",
              "        google.colab.kernel.accessAllowed ? 'block' : 'none';\n",
              "    })();\n",
              "  </script>\n",
              "</div>\n",
              "\n",
              "    </div>\n",
              "  </div>\n"
            ],
            "application/vnd.google.colaboratory.intrinsic+json": {
              "type": "dataframe",
              "summary": "{\n  \"name\": \"temp_data\",\n  \"rows\": 8,\n  \"fields\": [\n    {\n      \"column\": \"sepal length (cm)\",\n      \"properties\": {\n        \"dtype\": \"number\",\n        \"std\": 37.8359673032662,\n        \"min\": 0.8191227218567639,\n        \"max\": 112.0,\n        \"num_unique_values\": 8,\n        \"samples\": [\n          5.830357142857143,\n          5.8,\n          112.0\n        ],\n        \"semantic_type\": \"\",\n        \"description\": \"\"\n      }\n    },\n    {\n      \"column\": \"sepal width (cm)\",\n      \"properties\": {\n        \"dtype\": \"number\",\n        \"std\": 38.66516711063569,\n        \"min\": 0.4371199397177412,\n        \"max\": 112.0,\n        \"num_unique_values\": 8,\n        \"samples\": [\n          3.0401785714285716,\n          3.0,\n          112.0\n        ],\n        \"semantic_type\": \"\",\n        \"description\": \"\"\n      }\n    },\n    {\n      \"column\": \"petal length (cm)\",\n      \"properties\": {\n        \"dtype\": \"number\",\n        \"std\": 38.416900278952475,\n        \"min\": 1.1,\n        \"max\": 112.0,\n        \"num_unique_values\": 8,\n        \"samples\": [\n          3.807142857142857,\n          4.3,\n          112.0\n        ],\n        \"semantic_type\": \"\",\n        \"description\": \"\"\n      }\n    },\n    {\n      \"column\": \"petal width (cm)\",\n      \"properties\": {\n        \"dtype\": \"number\",\n        \"std\": 39.203583260537975,\n        \"min\": 0.1,\n        \"max\": 112.0,\n        \"num_unique_values\": 8,\n        \"samples\": [\n          1.2142857142857142,\n          1.3,\n          112.0\n        ],\n        \"semantic_type\": \"\",\n        \"description\": \"\"\n      }\n    }\n  ]\n}"
            }
          },
          "metadata": {},
          "execution_count": 11
        }
      ]
    },
    {
      "cell_type": "code",
      "source": [
        "for item in iris.feature_names:\n",
        "  plt.figure(figsize = (10,7))\n",
        "  plt.subplot(1,2,1)\n",
        "  plt.hist(temp_data[item])\n",
        "  plt.title(\"Distribution of \" + item)\n",
        "  plt.subplot(1,2,2)\n",
        "  plt.boxplot(temp_data[item])\n",
        "  plt.title(\"Boxplot for \" + item)"
      ],
      "metadata": {
        "id": "V8fcOjxNyDPd",
        "outputId": "39174401-72ba-44ca-c58a-77e09ed6438d",
        "colab": {
          "base_uri": "https://localhost:8080/",
          "height": 1000
        }
      },
      "id": "V8fcOjxNyDPd",
      "execution_count": 13,
      "outputs": [
        {
          "output_type": "display_data",
          "data": {
            "text/plain": [
              "<Figure size 1000x700 with 2 Axes>"
            ],
            "image/png": "[encoded data removed]"
          },
          "metadata": {}
        },
        {
          "output_type": "display_data",
          "data": {
            "text/plain": [
              "<Figure size 1000x700 with 2 Axes>"
            ],
            "image/png": "[encoded data removed]"
          },
          "metadata": {}
        },
        {
          "output_type": "display_data",
          "data": {
            "text/plain": [
              "<Figure size 1000x700 with 2 Axes>"
            ],
            "image/png": "[encoded data removed]"
          },
          "metadata": {}
        },
        {
          "output_type": "display_data",
          "data": {
            "text/plain": [
              "<Figure size 1000x700 with 2 Axes>"
            ],
            "image/png": "[encoded data removed]"
          },
          "metadata": {}
        }
      ]
    },
    {
      "cell_type": "markdown",
      "source": [
        "### Training using MLP Classifier\n",
        "\n",
        "class sklearn.neural_network.MLPClassifier(hidden_layer_sizes=(100,), activation='relu', *, solver='adam', alpha=0.0001, batch_size='auto', learning_rate='constant', learning_rate_init=0.001, power_t=0.5, max_iter=200, shuffle=True, random_state=None, tol=0.0001, verbose=False, warm_start=False, momentum=0.9, nesterovs_momentum=True, early_stopping=False, validation_fraction=0.1, beta_1=0.9, beta_2=0.999, epsilon=1e-08, n_iter_no_change=10, max_fun=15000)"
      ],
      "metadata": {
        "id": "4bGrd8Vfy77A"
      },
      "id": "4bGrd8Vfy77A"
    },
    {
      "cell_type": "code",
      "source": [
        "model_1 = MLPClassifier(hidden_layer_sizes = [50,50], activation = \"relu\",\n",
        "                        random_state = 42, learning_rate_init = 0.001,\n",
        "                        verbose = True, solver = \"adam\",\n",
        "                        validation_fraction= 0.1)"
      ],
      "metadata": {
        "id": "mlpie6bTy_kp"
      },
      "id": "mlpie6bTy_kp",
      "execution_count": 16,
      "outputs": []
    },
    {
      "cell_type": "code",
      "source": [
        "model_1.fit(X_train, y_train)"
      ],
      "metadata": {
        "id": "uLyoc7SMz7z2",
        "outputId": "47fbee64-f534-4714-af6f-b22187907669",
        "colab": {
          "base_uri": "https://localhost:8080/",
          "height": 1000
        }
      },
      "id": "uLyoc7SMz7z2",
      "execution_count": 17,
      "outputs": [
        {
          "output_type": "stream",
          "name": "stdout",
          "text": [
            "Iteration 1, loss = 1.28517693\n",
            "Iteration 2, loss = 1.24393161\n",
            "Iteration 3, loss = 1.20658263\n",
            "Iteration 4, loss = 1.17295882\n",
            "Iteration 5, loss = 1.14217376\n",
            "Iteration 6, loss = 1.11379952\n",
            "Iteration 7, loss = 1.08893255\n",
            "Iteration 8, loss = 1.06726376\n",
            "Iteration 9, loss = 1.04753810\n",
            "Iteration 10, loss = 1.02924999\n",
            "Iteration 11, loss = 1.01193844\n",
            "Iteration 12, loss = 0.99532828\n",
            "Iteration 13, loss = 0.97925028\n",
            "Iteration 14, loss = 0.96357903\n",
            "Iteration 15, loss = 0.94810493\n",
            "Iteration 16, loss = 0.93277717\n",
            "Iteration 17, loss = 0.91751020\n",
            "Iteration 18, loss = 0.90243845\n",
            "Iteration 19, loss = 0.88762211\n",
            "Iteration 20, loss = 0.87309914\n",
            "Iteration 21, loss = 0.85896711\n",
            "Iteration 22, loss = 0.84513050\n",
            "Iteration 23, loss = 0.83144757\n",
            "Iteration 24, loss = 0.81789235\n",
            "Iteration 25, loss = 0.80456723\n",
            "Iteration 26, loss = 0.79134009\n",
            "Iteration 27, loss = 0.77820263\n",
            "Iteration 28, loss = 0.76519009\n",
            "Iteration 29, loss = 0.75239321\n",
            "Iteration 30, loss = 0.73972213\n",
            "Iteration 31, loss = 0.72708837\n",
            "Iteration 32, loss = 0.71447398\n",
            "Iteration 33, loss = 0.70192214\n",
            "Iteration 34, loss = 0.68934867\n",
            "Iteration 35, loss = 0.67679489\n",
            "Iteration 36, loss = 0.66447849\n",
            "Iteration 37, loss = 0.65228765\n",
            "Iteration 38, loss = 0.64054093\n",
            "Iteration 39, loss = 0.62929213\n",
            "Iteration 40, loss = 0.61852424\n",
            "Iteration 41, loss = 0.60841877\n",
            "Iteration 42, loss = 0.59866965\n",
            "Iteration 43, loss = 0.58895520\n",
            "Iteration 44, loss = 0.57941558\n",
            "Iteration 45, loss = 0.57015186\n",
            "Iteration 46, loss = 0.56108453\n",
            "Iteration 47, loss = 0.55219588\n",
            "Iteration 48, loss = 0.54343291\n",
            "Iteration 49, loss = 0.53486224\n",
            "Iteration 50, loss = 0.52658992\n",
            "Iteration 51, loss = 0.51857525\n",
            "Iteration 52, loss = 0.51076075\n",
            "Iteration 53, loss = 0.50321939\n",
            "Iteration 54, loss = 0.49583148\n",
            "Iteration 55, loss = 0.48867790\n",
            "Iteration 56, loss = 0.48178148\n",
            "Iteration 57, loss = 0.47502106\n",
            "Iteration 58, loss = 0.46849125\n",
            "Iteration 59, loss = 0.46211765\n",
            "Iteration 60, loss = 0.45591238\n",
            "Iteration 61, loss = 0.44984012\n",
            "Iteration 62, loss = 0.44390398\n",
            "Iteration 63, loss = 0.43815447\n",
            "Iteration 64, loss = 0.43257102\n",
            "Iteration 65, loss = 0.42715077\n",
            "Iteration 66, loss = 0.42186799\n",
            "Iteration 67, loss = 0.41670349\n",
            "Iteration 68, loss = 0.41163711\n",
            "Iteration 69, loss = 0.40667221\n",
            "Iteration 70, loss = 0.40179645\n",
            "Iteration 71, loss = 0.39699466\n",
            "Iteration 72, loss = 0.39226745\n",
            "Iteration 73, loss = 0.38762617\n",
            "Iteration 74, loss = 0.38303016\n",
            "Iteration 75, loss = 0.37850824\n",
            "Iteration 76, loss = 0.37406633\n",
            "Iteration 77, loss = 0.36968285\n",
            "Iteration 78, loss = 0.36532731\n",
            "Iteration 79, loss = 0.36101132\n",
            "Iteration 80, loss = 0.35671158\n",
            "Iteration 81, loss = 0.35243325\n",
            "Iteration 82, loss = 0.34816709\n",
            "Iteration 83, loss = 0.34393085\n",
            "Iteration 84, loss = 0.33976608\n",
            "Iteration 85, loss = 0.33566834\n",
            "Iteration 86, loss = 0.33162099\n",
            "Iteration 87, loss = 0.32762591\n",
            "Iteration 88, loss = 0.32367562\n",
            "Iteration 89, loss = 0.31975453\n",
            "Iteration 90, loss = 0.31586519\n",
            "Iteration 91, loss = 0.31200388\n",
            "Iteration 92, loss = 0.30817006\n",
            "Iteration 93, loss = 0.30437646\n",
            "Iteration 94, loss = 0.30061781\n",
            "Iteration 95, loss = 0.29689234\n",
            "Iteration 96, loss = 0.29309476\n",
            "Iteration 97, loss = 0.28936038\n",
            "Iteration 98, loss = 0.28575000\n",
            "Iteration 99, loss = 0.28220503\n",
            "Iteration 100, loss = 0.27869584\n",
            "Iteration 101, loss = 0.27523282\n",
            "Iteration 102, loss = 0.27180017\n",
            "Iteration 103, loss = 0.26839830\n",
            "Iteration 104, loss = 0.26502871\n",
            "Iteration 105, loss = 0.26169246\n",
            "Iteration 106, loss = 0.25838820\n",
            "Iteration 107, loss = 0.25511760\n",
            "Iteration 108, loss = 0.25188583\n",
            "Iteration 109, loss = 0.24870581\n",
            "Iteration 110, loss = 0.24556361\n",
            "Iteration 111, loss = 0.24245652\n",
            "Iteration 112, loss = 0.23938318\n",
            "Iteration 113, loss = 0.23636064\n",
            "Iteration 114, loss = 0.23336916\n",
            "Iteration 115, loss = 0.23039485\n",
            "Iteration 116, loss = 0.22743986\n",
            "Iteration 117, loss = 0.22447606\n",
            "Iteration 118, loss = 0.22143029\n",
            "Iteration 119, loss = 0.21840356\n",
            "Iteration 120, loss = 0.21554842\n",
            "Iteration 121, loss = 0.21275119\n",
            "Iteration 122, loss = 0.20997955\n",
            "Iteration 123, loss = 0.20723301\n",
            "Iteration 124, loss = 0.20451316\n",
            "Iteration 125, loss = 0.20182600\n",
            "Iteration 126, loss = 0.19916745\n",
            "Iteration 127, loss = 0.19653802\n",
            "Iteration 128, loss = 0.19394008\n",
            "Iteration 129, loss = 0.19137706\n",
            "Iteration 130, loss = 0.18884587\n",
            "Iteration 131, loss = 0.18634876\n",
            "Iteration 132, loss = 0.18389554\n",
            "Iteration 133, loss = 0.18148574\n",
            "Iteration 134, loss = 0.17910700\n",
            "Iteration 135, loss = 0.17669441\n",
            "Iteration 136, loss = 0.17425496\n",
            "Iteration 137, loss = 0.17187161\n",
            "Iteration 138, loss = 0.16965910\n",
            "Iteration 139, loss = 0.16748420\n",
            "Iteration 140, loss = 0.16535097\n",
            "Iteration 141, loss = 0.16325692\n",
            "Iteration 142, loss = 0.16119542\n",
            "Iteration 143, loss = 0.15916253\n",
            "Iteration 144, loss = 0.15715716\n",
            "Iteration 145, loss = 0.15518258\n",
            "Iteration 146, loss = 0.15324207\n",
            "Iteration 147, loss = 0.15133573\n",
            "Iteration 148, loss = 0.14946298\n",
            "Iteration 149, loss = 0.14762843\n",
            "Iteration 150, loss = 0.14583405\n",
            "Iteration 151, loss = 0.14408058\n",
            "Iteration 152, loss = 0.14236286\n",
            "Iteration 153, loss = 0.14067993\n",
            "Iteration 154, loss = 0.13903280\n",
            "Iteration 155, loss = 0.13742298\n",
            "Iteration 156, loss = 0.13584915\n",
            "Iteration 157, loss = 0.13430886\n",
            "Iteration 158, loss = 0.13280458\n",
            "Iteration 159, loss = 0.13133504\n",
            "Iteration 160, loss = 0.12989863\n",
            "Iteration 161, loss = 0.12849318\n",
            "Iteration 162, loss = 0.12711845\n",
            "Iteration 163, loss = 0.12577467\n",
            "Iteration 164, loss = 0.12446347\n",
            "Iteration 165, loss = 0.12318421\n",
            "Iteration 166, loss = 0.12193574\n",
            "Iteration 167, loss = 0.12071725\n",
            "Iteration 168, loss = 0.11952735\n",
            "Iteration 169, loss = 0.11836513\n",
            "Iteration 170, loss = 0.11723021\n",
            "Iteration 171, loss = 0.11612169\n",
            "Iteration 172, loss = 0.11503874\n",
            "Iteration 173, loss = 0.11398084\n",
            "Iteration 174, loss = 0.11294751\n",
            "Iteration 175, loss = 0.11193862\n",
            "Iteration 176, loss = 0.11095364\n",
            "Iteration 177, loss = 0.10999192\n",
            "Iteration 178, loss = 0.10905296\n",
            "Iteration 179, loss = 0.10813620\n",
            "Iteration 180, loss = 0.10724148\n",
            "Iteration 181, loss = 0.10636786\n",
            "Iteration 182, loss = 0.10551503\n",
            "Iteration 183, loss = 0.10468230\n",
            "Iteration 184, loss = 0.10386949\n",
            "Iteration 185, loss = 0.10307596\n",
            "Iteration 186, loss = 0.10230100\n",
            "Iteration 187, loss = 0.10154448\n",
            "Iteration 188, loss = 0.10080580\n",
            "Iteration 189, loss = 0.10008445\n",
            "Iteration 190, loss = 0.09938008\n",
            "Iteration 191, loss = 0.09869211\n",
            "Iteration 192, loss = 0.09802029\n",
            "Iteration 193, loss = 0.09736295\n",
            "Iteration 194, loss = 0.09672048\n",
            "Iteration 195, loss = 0.09609457\n",
            "Iteration 196, loss = 0.09548312\n",
            "Iteration 197, loss = 0.09488449\n",
            "Iteration 198, loss = 0.09429838\n",
            "Iteration 199, loss = 0.09373072\n",
            "Iteration 200, loss = 0.09316866\n"
          ]
        },
        {
          "output_type": "stream",
          "name": "stderr",
          "text": [
            "/usr/local/lib/python3.10/dist-packages/sklearn/neural_network/_multilayer_perceptron.py:686: ConvergenceWarning: Stochastic Optimizer: Maximum iterations (200) reached and the optimization hasn't converged yet.\n",
            "  warnings.warn(\n"
          ]
        },
        {
          "output_type": "execute_result",
          "data": {
            "text/plain": [
              "MLPClassifier(hidden_layer_sizes=[50, 50], random_state=42, verbose=True)"
            ],
            "text/html": [
              "<style>#sk-container-id-1 {color: black;background-color: white;}#sk-container-id-1 pre{padding: 0;}#sk-container-id-1 div.sk-toggleable {background-color: white;}#sk-container-id-1 label.sk-toggleable__label {cursor: pointer;display: block;width: 100%;margin-bottom: 0;padding: 0.3em;box-sizing: border-box;text-align: center;}#sk-container-id-1 label.sk-toggleable__label-arrow:before {content: \"▸\";float: left;margin-right: 0.25em;color: #696969;}#sk-container-id-1 label.sk-toggleable__label-arrow:hover:before {color: black;}#sk-container-id-1 div.sk-estimator:hover label.sk-toggleable__label-arrow:before {color: black;}#sk-container-id-1 div.sk-toggleable__content {max-height: 0;max-width: 0;overflow: hidden;text-align: left;background-color: #f0f8ff;}#sk-container-id-1 div.sk-toggleable__content pre {margin: 0.2em;color: black;border-radius: 0.25em;background-color: #f0f8ff;}#sk-container-id-1 input.sk-toggleable__control:checked~div.sk-toggleable__content {max-height: 200px;max-width: 100%;overflow: auto;}#sk-container-id-1 input.sk-toggleable__control:checked~label.sk-toggleable__label-arrow:before {content: \"▾\";}#sk-container-id-1 div.sk-estimator input.sk-toggleable__control:checked~label.sk-toggleable__label {background-color: #d4ebff;}#sk-container-id-1 div.sk-label input.sk-toggleable__control:checked~label.sk-toggleable__label {background-color: #d4ebff;}#sk-container-id-1 input.sk-hidden--visually {border: 0;clip: rect(1px 1px 1px 1px);clip: rect(1px, 1px, 1px, 1px);height: 1px;margin: -1px;overflow: hidden;padding: 0;position: absolute;width: 1px;}#sk-container-id-1 div.sk-estimator {font-family: monospace;background-color: #f0f8ff;border: 1px dotted black;border-radius: 0.25em;box-sizing: border-box;margin-bottom: 0.5em;}#sk-container-id-1 div.sk-estimator:hover {background-color: #d4ebff;}#sk-container-id-1 div.sk-parallel-item::after {content: \"\";width: 100%;border-bottom: 1px solid gray;flex-grow: 1;}#sk-container-id-1 div.sk-label:hover label.sk-toggleable__label {background-color: #d4ebff;}#sk-container-id-1 div.sk-serial::before {content: \"\";position: absolute;border-left: 1px solid gray;box-sizing: border-box;top: 0;bottom: 0;left: 50%;z-index: 0;}#sk-container-id-1 div.sk-serial {display: flex;flex-direction: column;align-items: center;background-color: white;padding-right: 0.2em;padding-left: 0.2em;position: relative;}#sk-container-id-1 div.sk-item {position: relative;z-index: 1;}#sk-container-id-1 div.sk-parallel {display: flex;align-items: stretch;justify-content: center;background-color: white;position: relative;}#sk-container-id-1 div.sk-item::before, #sk-container-id-1 div.sk-parallel-item::before {content: \"\";position: absolute;border-left: 1px solid gray;box-sizing: border-box;top: 0;bottom: 0;left: 50%;z-index: -1;}#sk-container-id-1 div.sk-parallel-item {display: flex;flex-direction: column;z-index: 1;position: relative;background-color: white;}#sk-container-id-1 div.sk-parallel-item:first-child::after {align-self: flex-end;width: 50%;}#sk-container-id-1 div.sk-parallel-item:last-child::after {align-self: flex-start;width: 50%;}#sk-container-id-1 div.sk-parallel-item:only-child::after {width: 0;}#sk-container-id-1 div.sk-dashed-wrapped {border: 1px dashed gray;margin: 0 0.4em 0.5em 0.4em;box-sizing: border-box;padding-bottom: 0.4em;background-color: white;}#sk-container-id-1 div.sk-label label {font-family: monospace;font-weight: bold;display: inline-block;line-height: 1.2em;}#sk-container-id-1 div.sk-label-container {text-align: center;}#sk-container-id-1 div.sk-container {/* jupyter's `normalize.less` sets `[hidden] { display: none; }` but bootstrap.min.css set `[hidden] { display: none !important; }` so we also need the `!important` here to be able to override the default hidden behavior on the sphinx rendered scikit-learn.org. See: https://github.com/scikit-learn/scikit-learn/issues/21755 */display: inline-block !important;position: relative;}#sk-container-id-1 div.sk-text-repr-fallback {display: none;}</style><div id=\"sk-container-id-1\" class=\"sk-top-container\"><div class=\"sk-text-repr-fallback\"><pre>MLPClassifier(hidden_layer_sizes=[50, 50], random_state=42, verbose=True)</pre><b>In a Jupyter environment, please rerun this cell to show the HTML representation or trust the notebook. <br />On GitHub, the HTML representation is unable to render, please try loading this page with nbviewer.org.</b></div><div class=\"sk-container\" hidden><div class=\"sk-item\"><div class=\"sk-estimator sk-toggleable\"><input class=\"sk-toggleable__control sk-hidden--visually\" id=\"sk-estimator-id-1\" type=\"checkbox\" checked><label for=\"sk-estimator-id-1\" class=\"sk-toggleable__label sk-toggleable__label-arrow\">MLPClassifier</label><div class=\"sk-toggleable__content\"><pre>MLPClassifier(hidden_layer_sizes=[50, 50], random_state=42, verbose=True)</pre></div></div></div></div></div>"
            ]
          },
          "metadata": {},
          "execution_count": 17
        }
      ]
    },
    {
      "cell_type": "code",
      "source": [
        "y_pred_1 = model_1.predict(X_test)\n",
        "acc_1 = accuracy_score(y_test, y_pred_1)\n",
        "\n",
        "print(f\"Accuracy for model 1: {acc_1}\")"
      ],
      "metadata": {
        "id": "pxhJXNgZ0BoT",
        "outputId": "47268f8b-a727-45f6-cee0-934071ade33b",
        "colab": {
          "base_uri": "https://localhost:8080/"
        }
      },
      "id": "pxhJXNgZ0BoT",
      "execution_count": 19,
      "outputs": [
        {
          "output_type": "stream",
          "name": "stdout",
          "text": [
            "Accuracy for model 1: 1.0\n"
          ]
        }
      ]
    },
    {
      "cell_type": "markdown",
      "source": [
        "Trying early stopping ..."
      ],
      "metadata": {
        "id": "KyErVTEN1gXr"
      },
      "id": "KyErVTEN1gXr"
    },
    {
      "cell_type": "code",
      "source": [
        "model_2 = MLPClassifier(hidden_layer_sizes = [50,50], random_state = 42,\n",
        "                        verbose = True, early_stopping = True,\n",
        "                        activation = \"relu\",\n",
        "                        learning_rate_init = 0.001,\n",
        "                        solver = \"adam\",\n",
        "                        validation_fraction= 0.1)"
      ],
      "metadata": {
        "id": "IU4ym_lN1rVM"
      },
      "id": "IU4ym_lN1rVM",
      "execution_count": 20,
      "outputs": []
    },
    {
      "cell_type": "code",
      "source": [
        "model_2.fit(X_train, y_train)"
      ],
      "metadata": {
        "id": "1jqCE_xq2MUk",
        "outputId": "51e6a793-e03f-45f6-af16-272f967620e6",
        "colab": {
          "base_uri": "https://localhost:8080/",
          "height": 1000
        }
      },
      "id": "1jqCE_xq2MUk",
      "execution_count": 21,
      "outputs": [
        {
          "output_type": "stream",
          "name": "stdout",
          "text": [
            "Iteration 1, loss = 1.28586105\n",
            "Validation score: 0.333333\n",
            "Iteration 2, loss = 1.24440395\n",
            "Validation score: 0.333333\n",
            "Iteration 3, loss = 1.20674165\n",
            "Validation score: 0.333333\n",
            "Iteration 4, loss = 1.17287863\n",
            "Validation score: 0.333333\n",
            "Iteration 5, loss = 1.14208463\n",
            "Validation score: 0.416667\n",
            "Iteration 6, loss = 1.11370010\n",
            "Validation score: 0.500000\n",
            "Iteration 7, loss = 1.08868598\n",
            "Validation score: 0.583333\n",
            "Iteration 8, loss = 1.06687502\n",
            "Validation score: 0.583333\n",
            "Iteration 9, loss = 1.04706056\n",
            "Validation score: 0.666667\n",
            "Iteration 10, loss = 1.02880605\n",
            "Validation score: 0.666667\n",
            "Iteration 11, loss = 1.01159293\n",
            "Validation score: 0.666667\n",
            "Iteration 12, loss = 0.99505718\n",
            "Validation score: 0.666667\n",
            "Iteration 13, loss = 0.97902479\n",
            "Validation score: 0.666667\n",
            "Iteration 14, loss = 0.96338809\n",
            "Validation score: 0.666667\n",
            "Iteration 15, loss = 0.94798320\n",
            "Validation score: 0.833333\n",
            "Iteration 16, loss = 0.93276938\n",
            "Validation score: 0.916667\n",
            "Iteration 17, loss = 0.91765080\n",
            "Validation score: 0.916667\n",
            "Iteration 18, loss = 0.90262450\n",
            "Validation score: 0.916667\n",
            "Iteration 19, loss = 0.88788182\n",
            "Validation score: 0.916667\n",
            "Iteration 20, loss = 0.87335077\n",
            "Validation score: 0.916667\n",
            "Iteration 21, loss = 0.85919318\n",
            "Validation score: 0.916667\n",
            "Iteration 22, loss = 0.84537583\n",
            "Validation score: 0.916667\n",
            "Iteration 23, loss = 0.83174706\n",
            "Validation score: 0.833333\n",
            "Iteration 24, loss = 0.81829719\n",
            "Validation score: 0.833333\n",
            "Iteration 25, loss = 0.80507858\n",
            "Validation score: 0.833333\n",
            "Iteration 26, loss = 0.79193703\n",
            "Validation score: 0.833333\n",
            "Iteration 27, loss = 0.77889505\n",
            "Validation score: 0.833333\n",
            "Validation score did not improve more than tol=0.000100 for 10 consecutive epochs. Stopping.\n"
          ]
        },
        {
          "output_type": "execute_result",
          "data": {
            "text/plain": [
              "MLPClassifier(early_stopping=True, hidden_layer_sizes=[50, 50], random_state=42,\n",
              "              verbose=True)"
            ],
            "text/html": [
              "<style>#sk-container-id-2 {color: black;background-color: white;}#sk-container-id-2 pre{padding: 0;}#sk-container-id-2 div.sk-toggleable {background-color: white;}#sk-container-id-2 label.sk-toggleable__label {cursor: pointer;display: block;width: 100%;margin-bottom: 0;padding: 0.3em;box-sizing: border-box;text-align: center;}#sk-container-id-2 label.sk-toggleable__label-arrow:before {content: \"▸\";float: left;margin-right: 0.25em;color: #696969;}#sk-container-id-2 label.sk-toggleable__label-arrow:hover:before {color: black;}#sk-container-id-2 div.sk-estimator:hover label.sk-toggleable__label-arrow:before {color: black;}#sk-container-id-2 div.sk-toggleable__content {max-height: 0;max-width: 0;overflow: hidden;text-align: left;background-color: #f0f8ff;}#sk-container-id-2 div.sk-toggleable__content pre {margin: 0.2em;color: black;border-radius: 0.25em;background-color: #f0f8ff;}#sk-container-id-2 input.sk-toggleable__control:checked~div.sk-toggleable__content {max-height: 200px;max-width: 100%;overflow: auto;}#sk-container-id-2 input.sk-toggleable__control:checked~label.sk-toggleable__label-arrow:before {content: \"▾\";}#sk-container-id-2 div.sk-estimator input.sk-toggleable__control:checked~label.sk-toggleable__label {background-color: #d4ebff;}#sk-container-id-2 div.sk-label input.sk-toggleable__control:checked~label.sk-toggleable__label {background-color: #d4ebff;}#sk-container-id-2 input.sk-hidden--visually {border: 0;clip: rect(1px 1px 1px 1px);clip: rect(1px, 1px, 1px, 1px);height: 1px;margin: -1px;overflow: hidden;padding: 0;position: absolute;width: 1px;}#sk-container-id-2 div.sk-estimator {font-family: monospace;background-color: #f0f8ff;border: 1px dotted black;border-radius: 0.25em;box-sizing: border-box;margin-bottom: 0.5em;}#sk-container-id-2 div.sk-estimator:hover {background-color: #d4ebff;}#sk-container-id-2 div.sk-parallel-item::after {content: \"\";width: 100%;border-bottom: 1px solid gray;flex-grow: 1;}#sk-container-id-2 div.sk-label:hover label.sk-toggleable__label {background-color: #d4ebff;}#sk-container-id-2 div.sk-serial::before {content: \"\";position: absolute;border-left: 1px solid gray;box-sizing: border-box;top: 0;bottom: 0;left: 50%;z-index: 0;}#sk-container-id-2 div.sk-serial {display: flex;flex-direction: column;align-items: center;background-color: white;padding-right: 0.2em;padding-left: 0.2em;position: relative;}#sk-container-id-2 div.sk-item {position: relative;z-index: 1;}#sk-container-id-2 div.sk-parallel {display: flex;align-items: stretch;justify-content: center;background-color: white;position: relative;}#sk-container-id-2 div.sk-item::before, #sk-container-id-2 div.sk-parallel-item::before {content: \"\";position: absolute;border-left: 1px solid gray;box-sizing: border-box;top: 0;bottom: 0;left: 50%;z-index: -1;}#sk-container-id-2 div.sk-parallel-item {display: flex;flex-direction: column;z-index: 1;position: relative;background-color: white;}#sk-container-id-2 div.sk-parallel-item:first-child::after {align-self: flex-end;width: 50%;}#sk-container-id-2 div.sk-parallel-item:last-child::after {align-self: flex-start;width: 50%;}#sk-container-id-2 div.sk-parallel-item:only-child::after {width: 0;}#sk-container-id-2 div.sk-dashed-wrapped {border: 1px dashed gray;margin: 0 0.4em 0.5em 0.4em;box-sizing: border-box;padding-bottom: 0.4em;background-color: white;}#sk-container-id-2 div.sk-label label {font-family: monospace;font-weight: bold;display: inline-block;line-height: 1.2em;}#sk-container-id-2 div.sk-label-container {text-align: center;}#sk-container-id-2 div.sk-container {/* jupyter's `normalize.less` sets `[hidden] { display: none; }` but bootstrap.min.css set `[hidden] { display: none !important; }` so we also need the `!important` here to be able to override the default hidden behavior on the sphinx rendered scikit-learn.org. See: https://github.com/scikit-learn/scikit-learn/issues/21755 */display: inline-block !important;position: relative;}#sk-container-id-2 div.sk-text-repr-fallback {display: none;}</style><div id=\"sk-container-id-2\" class=\"sk-top-container\"><div class=\"sk-text-repr-fallback\"><pre>MLPClassifier(early_stopping=True, hidden_layer_sizes=[50, 50], random_state=42,\n",
              "              verbose=True)</pre><b>In a Jupyter environment, please rerun this cell to show the HTML representation or trust the notebook. <br />On GitHub, the HTML representation is unable to render, please try loading this page with nbviewer.org.</b></div><div class=\"sk-container\" hidden><div class=\"sk-item\"><div class=\"sk-estimator sk-toggleable\"><input class=\"sk-toggleable__control sk-hidden--visually\" id=\"sk-estimator-id-2\" type=\"checkbox\" checked><label for=\"sk-estimator-id-2\" class=\"sk-toggleable__label sk-toggleable__label-arrow\">MLPClassifier</label><div class=\"sk-toggleable__content\"><pre>MLPClassifier(early_stopping=True, hidden_layer_sizes=[50, 50], random_state=42,\n",
              "              verbose=True)</pre></div></div></div></div></div>"
            ]
          },
          "metadata": {},
          "execution_count": 21
        }
      ]
    },
    {
      "cell_type": "code",
      "source": [
        "y_pred_2 = model_2.predict(X_test)\n",
        "acc_2 = accuracy_score(y_test, y_pred_2)\n",
        "\n",
        "print(f\"Accuracy for model 2: {acc_2}\")"
      ],
      "metadata": {
        "id": "Ai0NG9lj2QtO",
        "outputId": "e071ac46-73b3-45a2-c9ea-70e795f05713",
        "colab": {
          "base_uri": "https://localhost:8080/"
        }
      },
      "id": "Ai0NG9lj2QtO",
      "execution_count": 22,
      "outputs": [
        {
          "output_type": "stream",
          "name": "stdout",
          "text": [
            "Accuracy for model 2: 0.8421052631578947\n"
          ]
        }
      ]
    },
    {
      "cell_type": "markdown",
      "source": [
        "Its lesser than model 1"
      ],
      "metadata": {
        "id": "38KakDZF2iJ3"
      },
      "id": "38KakDZF2iJ3"
    },
    {
      "cell_type": "code",
      "source": [
        "score_1 = model_1.score(X_test, y_test)\n",
        "score_2 = model_2.score(X_test, y_test)"
      ],
      "metadata": {
        "id": "kkJtHP0p2pAe"
      },
      "id": "kkJtHP0p2pAe",
      "execution_count": 23,
      "outputs": []
    },
    {
      "cell_type": "code",
      "source": [
        "score = pd.DataFrame([[score_1, score_2]], columns = ['Model 1', 'Model 2'])\n",
        "score"
      ],
      "metadata": {
        "id": "z8SgATtU2zYN",
        "outputId": "7bf863ef-4488-4d71-b2c7-bf6c5f726bdd",
        "colab": {
          "base_uri": "https://localhost:8080/",
          "height": 89
        }
      },
      "id": "z8SgATtU2zYN",
      "execution_count": 24,
      "outputs": [
        {
          "output_type": "execute_result",
          "data": {
            "text/plain": [
              "   Model 1   Model 2\n",
              "0      1.0  0.842105"
            ],
            "text/html": [
              "\n",
              "  <div id=\"df-de29fe4f-a4ae-47fd-bb1a-7955fcfd4100\" class=\"colab-df-container\">\n",
              "    <div>\n",
              "<style scoped>\n",
              "    .dataframe tbody tr th:only-of-type {\n",
              "        vertical-align: middle;\n",
              "    }\n",
              "\n",
              "    .dataframe tbody tr th {\n",
              "        vertical-align: top;\n",
              "    }\n",
              "\n",
              "    .dataframe thead th {\n",
              "        text-align: right;\n",
              "    }\n",
              "</style>\n",
              "<table border=\"1\" class=\"dataframe\">\n",
              "  <thead>\n",
              "    <tr style=\"text-align: right;\">\n",
              "      <th></th>\n",
              "      <th>Model 1</th>\n",
              "      <th>Model 2</th>\n",
              "    </tr>\n",
              "  </thead>\n",
              "  <tbody>\n",
              "    <tr>\n",
              "      <th>0</th>\n",
              "      <td>1.0</td>\n",
              "      <td>0.842105</td>\n",
              "    </tr>\n",
              "  </tbody>\n",
              "</table>\n",
              "</div>\n",
              "    <div class=\"colab-df-buttons\">\n",
              "\n",
              "  <div class=\"colab-df-container\">\n",
              "    <button class=\"colab-df-convert\" onclick=\"convertToInteractive('df-de29fe4f-a4ae-47fd-bb1a-7955fcfd4100')\"\n",
              "            title=\"Convert this dataframe to an interactive table.\"\n",
              "            style=\"display:none;\">\n",
              "\n",
              "  <svg xmlns=\"http://www.w3.org/2000/svg\" height=\"24px\" viewBox=\"0 -960 960 960\">\n",
              "    <path d=\"M120-120v-720h720v720H120Zm60-500h600v-160H180v160Zm220 220h160v-160H400v160Zm0 220h160v-160H400v160ZM180-400h160v-160H180v160Zm440 0h160v-160H620v160ZM180-180h160v-160H180v160Zm440 0h160v-160H620v160Z\"/>\n",
              "  </svg>\n",
              "    </button>\n",
              "\n",
              "  <style>\n",
              "    .colab-df-container {\n",
              "      display:flex;\n",
              "      gap: 12px;\n",
              "    }\n",
              "\n",
              "    .colab-df-convert {\n",
              "      background-color: #E8F0FE;\n",
              "      border: none;\n",
              "      border-radius: 50%;\n",
              "      cursor: pointer;\n",
              "      display: none;\n",
              "      fill: #1967D2;\n",
              "      height: 32px;\n",
              "      padding: 0 0 0 0;\n",
              "      width: 32px;\n",
              "    }\n",
              "\n",
              "    .colab-df-convert:hover {\n",
              "      background-color: #E2EBFA;\n",
              "      box-shadow: 0px 1px 2px rgba(60, 64, 67, 0.3), 0px 1px 3px 1px rgba(60, 64, 67, 0.15);\n",
              "      fill: #174EA6;\n",
              "    }\n",
              "\n",
              "    .colab-df-buttons div {\n",
              "      margin-bottom: 4px;\n",
              "    }\n",
              "\n",
              "    [theme=dark] .colab-df-convert {\n",
              "      background-color: #3B4455;\n",
              "      fill: #D2E3FC;\n",
              "    }\n",
              "\n",
              "    [theme=dark] .colab-df-convert:hover {\n",
              "      background-color: #434B5C;\n",
              "      box-shadow: 0px 1px 3px 1px rgba(0, 0, 0, 0.15);\n",
              "      filter: drop-shadow(0px 1px 2px rgba(0, 0, 0, 0.3));\n",
              "      fill: #FFFFFF;\n",
              "    }\n",
              "  </style>\n",
              "\n",
              "    <script>\n",
              "      const buttonEl =\n",
              "        document.querySelector('#df-de29fe4f-a4ae-47fd-bb1a-7955fcfd4100 button.colab-df-convert');\n",
              "      buttonEl.style.display =\n",
              "        google.colab.kernel.accessAllowed ? 'block' : 'none';\n",
              "\n",
              "      async function convertToInteractive(key) {\n",
              "        const element = document.querySelector('#df-de29fe4f-a4ae-47fd-bb1a-7955fcfd4100');\n",
              "        const dataTable =\n",
              "          await google.colab.kernel.invokeFunction('convertToInteractive',\n",
              "                                                    [key], {});\n",
              "        if (!dataTable) return;\n",
              "\n",
              "        const docLinkHtml = 'Like what you see? Visit the ' +\n",
              "          '<a target=\"_blank\" href=https://colab.research.google.com/notebooks/data_table.ipynb>data table notebook</a>'\n",
              "          + ' to learn more about interactive tables.';\n",
              "        element.innerHTML = '';\n",
              "        dataTable['output_type'] = 'display_data';\n",
              "        await google.colab.output.renderOutput(dataTable, element);\n",
              "        const docLink = document.createElement('div');\n",
              "        docLink.innerHTML = docLinkHtml;\n",
              "        element.appendChild(docLink);\n",
              "      }\n",
              "    </script>\n",
              "  </div>\n",
              "\n",
              "\n",
              "  <div id=\"id_f7043c8d-9a80-4baf-b93a-d3bb84719cc6\">\n",
              "    <style>\n",
              "      .colab-df-generate {\n",
              "        background-color: #E8F0FE;\n",
              "        border: none;\n",
              "        border-radius: 50%;\n",
              "        cursor: pointer;\n",
              "        display: none;\n",
              "        fill: #1967D2;\n",
              "        height: 32px;\n",
              "        padding: 0 0 0 0;\n",
              "        width: 32px;\n",
              "      }\n",
              "\n",
              "      .colab-df-generate:hover {\n",
              "        background-color: #E2EBFA;\n",
              "        box-shadow: 0px 1px 2px rgba(60, 64, 67, 0.3), 0px 1px 3px 1px rgba(60, 64, 67, 0.15);\n",
              "        fill: #174EA6;\n",
              "      }\n",
              "\n",
              "      [theme=dark] .colab-df-generate {\n",
              "        background-color: #3B4455;\n",
              "        fill: #D2E3FC;\n",
              "      }\n",
              "\n",
              "      [theme=dark] .colab-df-generate:hover {\n",
              "        background-color: #434B5C;\n",
              "        box-shadow: 0px 1px 3px 1px rgba(0, 0, 0, 0.15);\n",
              "        filter: drop-shadow(0px 1px 2px rgba(0, 0, 0, 0.3));\n",
              "        fill: #FFFFFF;\n",
              "      }\n",
              "    </style>\n",
              "    <button class=\"colab-df-generate\" onclick=\"generateWithVariable('score')\"\n",
              "            title=\"Generate code using this dataframe.\"\n",
              "            style=\"display:none;\">\n",
              "\n",
              "  <svg xmlns=\"http://www.w3.org/2000/svg\" height=\"24px\"viewBox=\"0 0 24 24\"\n",
              "       width=\"24px\">\n",
              "    <path d=\"M7,19H8.4L18.45,9,17,7.55,7,17.6ZM5,21V16.75L18.45,3.32a2,2,0,0,1,2.83,0l1.4,1.43a1.91,1.91,0,0,1,.58,1.4,1.91,1.91,0,0,1-.58,1.4L9.25,21ZM18.45,9,17,7.55Zm-12,3A5.31,5.31,0,0,0,4.9,8.1,5.31,5.31,0,0,0,1,6.5,5.31,5.31,0,0,0,4.9,4.9,5.31,5.31,0,0,0,6.5,1,5.31,5.31,0,0,0,8.1,4.9,5.31,5.31,0,0,0,12,6.5,5.46,5.46,0,0,0,6.5,12Z\"/>\n",
              "  </svg>\n",
              "    </button>\n",
              "    <script>\n",
              "      (() => {\n",
              "      const buttonEl =\n",
              "        document.querySelector('#id_f7043c8d-9a80-4baf-b93a-d3bb84719cc6 button.colab-df-generate');\n",
              "      buttonEl.style.display =\n",
              "        google.colab.kernel.accessAllowed ? 'block' : 'none';\n",
              "\n",
              "      buttonEl.onclick = () => {\n",
              "        google.colab.notebook.generateWithVariable('score');\n",
              "      }\n",
              "      })();\n",
              "    </script>\n",
              "  </div>\n",
              "\n",
              "    </div>\n",
              "  </div>\n"
            ],
            "application/vnd.google.colaboratory.intrinsic+json": {
              "type": "dataframe",
              "variable_name": "score",
              "summary": "{\n  \"name\": \"score\",\n  \"rows\": 1,\n  \"fields\": [\n    {\n      \"column\": \"Model 1\",\n      \"properties\": {\n        \"dtype\": \"number\",\n        \"std\": null,\n        \"min\": 1.0,\n        \"max\": 1.0,\n        \"num_unique_values\": 1,\n        \"samples\": [\n          1.0\n        ],\n        \"semantic_type\": \"\",\n        \"description\": \"\"\n      }\n    },\n    {\n      \"column\": \"Model 2\",\n      \"properties\": {\n        \"dtype\": \"number\",\n        \"std\": null,\n        \"min\": 0.8421052631578947,\n        \"max\": 0.8421052631578947,\n        \"num_unique_values\": 1,\n        \"samples\": [\n          0.8421052631578947\n        ],\n        \"semantic_type\": \"\",\n        \"description\": \"\"\n      }\n    }\n  ]\n}"
            }
          },
          "metadata": {},
          "execution_count": 24
        }
      ]
    }
  ],
  "metadata": {
    "kernelspec": {
      "display_name": "Python 3 (ipykernel)",
      "language": "python",
      "name": "python3"
    },
    "language_info": {
      "codemirror_mode": {
        "name": "ipython",
        "version": 3
      },
      "file_extension": ".py",
      "mimetype": "text/x-python",
      "name": "python",
      "nbconvert_exporter": "python",
      "pygments_lexer": "ipython3",
      "version": "3.10.9"
    },
    "colab": {
      "provenance": [],
      "toc_visible": true
    }
  },
  "nbformat": 4,
  "nbformat_minor": 5
}